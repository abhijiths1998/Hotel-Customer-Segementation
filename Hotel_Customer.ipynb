{
  "nbformat": 4,
  "nbformat_minor": 0,
  "metadata": {
    "orig_nbformat": 4,
    "language_info": {
      "name": "python",
      "version": "3.9.7",
      "mimetype": "text/x-python",
      "codemirror_mode": {
        "name": "ipython",
        "version": 3
      },
      "pygments_lexer": "ipython3",
      "nbconvert_exporter": "python",
      "file_extension": ".py"
    },
    "kernelspec": {
      "name": "python3",
      "display_name": "Python 3.9.7 64-bit ('py39': conda)"
    },
    "interpreter": {
      "hash": "6024e32e5845201562812c56e64e797176decfb1af69730394c8d050c54757db"
    },
    "colab": {
      "name": "Hotel_Customer.ipynb",
      "provenance": [],
      "collapsed_sections": [],
      "include_colab_link": true
    }
  },
  "cells": [
    {
      "cell_type": "markdown",
      "metadata": {
        "id": "view-in-github",
        "colab_type": "text"
      },
      "source": [
        "<a href=\"https://colab.research.google.com/github/abhijiths1998/Hotel-Customer-Segementation/blob/main/Hotel_Customer.ipynb\" target=\"_parent\"><img src=\"https://colab.research.google.com/assets/colab-badge.svg\" alt=\"Open In Colab\"/></a>"
      ]
    },
    {
      "cell_type": "markdown",
      "metadata": {
        "id": "5zZeai85IqCQ"
      },
      "source": [
        "\n",
        "## Hotel_Customer_Segmentation"
      ]
    },
    {
      "cell_type": "markdown",
      "metadata": {
        "id": "RzBTiHvcIqCV"
      },
      "source": [
        "### Problem Statement\n",
        "* Our aim is to segment the incoming customer based on the features in dataset using clustering and predict the type of customer incoming using classification models"
      ]
    },
    {
      "cell_type": "markdown",
      "metadata": {
        "id": "NE04VLKHIqCW"
      },
      "source": [
        ""
      ]
    },
    {
      "cell_type": "code",
      "metadata": {
        "id": "C-1b6otHIqCX"
      },
      "source": [
        "import pandas as pd\n",
        "import numpy as np\n",
        "import matplotlib.pyplot as plt\n",
        "import seaborn as sns\n",
        "sns.set()\n",
        "sns.set_theme(style = 'darkgrid')"
      ],
      "execution_count": null,
      "outputs": []
    },
    {
      "cell_type": "code",
      "metadata": {
        "id": "PP_tkTgIIqCY"
      },
      "source": [
        "df = pd.read_excel('HotelCustomersDataset.xlsx')"
      ],
      "execution_count": null,
      "outputs": []
    },
    {
      "cell_type": "code",
      "metadata": {
        "id": "ZpN9QhsYIqCY",
        "colab": {
          "base_uri": "https://localhost:8080/",
          "height": 292
        },
        "outputId": "04bad202-820a-4e76-b533-664a601cbdf6"
      },
      "source": [
        "df.head()"
      ],
      "execution_count": null,
      "outputs": [
        {
          "output_type": "execute_result",
          "data": {
            "text/html": [
              "<div>\n",
              "<style scoped>\n",
              "    .dataframe tbody tr th:only-of-type {\n",
              "        vertical-align: middle;\n",
              "    }\n",
              "\n",
              "    .dataframe tbody tr th {\n",
              "        vertical-align: top;\n",
              "    }\n",
              "\n",
              "    .dataframe thead th {\n",
              "        text-align: right;\n",
              "    }\n",
              "</style>\n",
              "<table border=\"1\" class=\"dataframe\">\n",
              "  <thead>\n",
              "    <tr style=\"text-align: right;\">\n",
              "      <th></th>\n",
              "      <th>ID</th>\n",
              "      <th>Nationality</th>\n",
              "      <th>Age</th>\n",
              "      <th>DaysSinceCreation</th>\n",
              "      <th>NameHash</th>\n",
              "      <th>DocIDHash</th>\n",
              "      <th>AverageLeadTime</th>\n",
              "      <th>LodgingRevenue</th>\n",
              "      <th>OtherRevenue</th>\n",
              "      <th>BookingsCanceled</th>\n",
              "      <th>BookingsNoShowed</th>\n",
              "      <th>BookingsCheckedIn</th>\n",
              "      <th>PersonsNights</th>\n",
              "      <th>RoomNights</th>\n",
              "      <th>DaysSinceLastStay</th>\n",
              "      <th>DaysSinceFirstStay</th>\n",
              "      <th>DistributionChannel</th>\n",
              "      <th>MarketSegment</th>\n",
              "      <th>SRHighFloor</th>\n",
              "      <th>SRLowFloor</th>\n",
              "      <th>SRAccessibleRoom</th>\n",
              "      <th>SRMediumFloor</th>\n",
              "      <th>SRBathtub</th>\n",
              "      <th>SRShower</th>\n",
              "      <th>SRCrib</th>\n",
              "      <th>SRKingSizeBed</th>\n",
              "      <th>SRTwinBed</th>\n",
              "      <th>SRNearElevator</th>\n",
              "      <th>SRAwayFromElevator</th>\n",
              "      <th>SRNoAlcoholInMiniBar</th>\n",
              "      <th>SRQuietRoom</th>\n",
              "    </tr>\n",
              "  </thead>\n",
              "  <tbody>\n",
              "    <tr>\n",
              "      <th>0</th>\n",
              "      <td>1</td>\n",
              "      <td>PRT</td>\n",
              "      <td>51.0</td>\n",
              "      <td>150</td>\n",
              "      <td>0x8E0A7AF39B633D5EA25C3B7EF4DFC5464B36DB7AF375...</td>\n",
              "      <td>0x71568459B729F7A7ABBED6C781A84CA4274D571003AC...</td>\n",
              "      <td>45</td>\n",
              "      <td>371.0</td>\n",
              "      <td>105.3</td>\n",
              "      <td>1</td>\n",
              "      <td>0</td>\n",
              "      <td>3</td>\n",
              "      <td>8</td>\n",
              "      <td>5</td>\n",
              "      <td>151</td>\n",
              "      <td>1074</td>\n",
              "      <td>Corporate</td>\n",
              "      <td>Corporate</td>\n",
              "      <td>0</td>\n",
              "      <td>0</td>\n",
              "      <td>0</td>\n",
              "      <td>0</td>\n",
              "      <td>0</td>\n",
              "      <td>0</td>\n",
              "      <td>0</td>\n",
              "      <td>0</td>\n",
              "      <td>0</td>\n",
              "      <td>0</td>\n",
              "      <td>0</td>\n",
              "      <td>0</td>\n",
              "      <td>0</td>\n",
              "    </tr>\n",
              "    <tr>\n",
              "      <th>1</th>\n",
              "      <td>2</td>\n",
              "      <td>PRT</td>\n",
              "      <td>NaN</td>\n",
              "      <td>1095</td>\n",
              "      <td>0x21EDE41906B45079E75385B5AA33287CA09DE1AB86DE...</td>\n",
              "      <td>0x5FA1E0098A31497057C5A6B9FE9D49FD6DD47CCE7C26...</td>\n",
              "      <td>61</td>\n",
              "      <td>280.0</td>\n",
              "      <td>53.0</td>\n",
              "      <td>0</td>\n",
              "      <td>0</td>\n",
              "      <td>1</td>\n",
              "      <td>10</td>\n",
              "      <td>5</td>\n",
              "      <td>1100</td>\n",
              "      <td>1100</td>\n",
              "      <td>Travel Agent/Operator</td>\n",
              "      <td>Travel Agent/Operator</td>\n",
              "      <td>0</td>\n",
              "      <td>0</td>\n",
              "      <td>0</td>\n",
              "      <td>0</td>\n",
              "      <td>0</td>\n",
              "      <td>0</td>\n",
              "      <td>0</td>\n",
              "      <td>0</td>\n",
              "      <td>0</td>\n",
              "      <td>0</td>\n",
              "      <td>0</td>\n",
              "      <td>0</td>\n",
              "      <td>0</td>\n",
              "    </tr>\n",
              "    <tr>\n",
              "      <th>2</th>\n",
              "      <td>3</td>\n",
              "      <td>DEU</td>\n",
              "      <td>31.0</td>\n",
              "      <td>1095</td>\n",
              "      <td>0x31C5E4B74E23231295FDB724AD578C02C4A723F4BA2B...</td>\n",
              "      <td>0xC7CF344F5B03295037595B1337AC905CA188F1B5B3A5...</td>\n",
              "      <td>0</td>\n",
              "      <td>0.0</td>\n",
              "      <td>0.0</td>\n",
              "      <td>0</td>\n",
              "      <td>0</td>\n",
              "      <td>0</td>\n",
              "      <td>0</td>\n",
              "      <td>0</td>\n",
              "      <td>-1</td>\n",
              "      <td>-1</td>\n",
              "      <td>Travel Agent/Operator</td>\n",
              "      <td>Travel Agent/Operator</td>\n",
              "      <td>0</td>\n",
              "      <td>0</td>\n",
              "      <td>0</td>\n",
              "      <td>0</td>\n",
              "      <td>0</td>\n",
              "      <td>0</td>\n",
              "      <td>0</td>\n",
              "      <td>0</td>\n",
              "      <td>0</td>\n",
              "      <td>0</td>\n",
              "      <td>0</td>\n",
              "      <td>0</td>\n",
              "      <td>0</td>\n",
              "    </tr>\n",
              "    <tr>\n",
              "      <th>3</th>\n",
              "      <td>4</td>\n",
              "      <td>FRA</td>\n",
              "      <td>60.0</td>\n",
              "      <td>1095</td>\n",
              "      <td>0xFF534C83C0EF23D1CE516BC80A65D0197003D27937D4...</td>\n",
              "      <td>0xBD3823A9B4EC35D6CAF4B27AE423A677C0200DB61E82...</td>\n",
              "      <td>93</td>\n",
              "      <td>240.0</td>\n",
              "      <td>60.0</td>\n",
              "      <td>0</td>\n",
              "      <td>0</td>\n",
              "      <td>1</td>\n",
              "      <td>10</td>\n",
              "      <td>5</td>\n",
              "      <td>1100</td>\n",
              "      <td>1100</td>\n",
              "      <td>Travel Agent/Operator</td>\n",
              "      <td>Travel Agent/Operator</td>\n",
              "      <td>0</td>\n",
              "      <td>0</td>\n",
              "      <td>0</td>\n",
              "      <td>0</td>\n",
              "      <td>0</td>\n",
              "      <td>0</td>\n",
              "      <td>0</td>\n",
              "      <td>0</td>\n",
              "      <td>0</td>\n",
              "      <td>0</td>\n",
              "      <td>0</td>\n",
              "      <td>0</td>\n",
              "      <td>0</td>\n",
              "    </tr>\n",
              "    <tr>\n",
              "      <th>4</th>\n",
              "      <td>5</td>\n",
              "      <td>FRA</td>\n",
              "      <td>51.0</td>\n",
              "      <td>1095</td>\n",
              "      <td>0x9C1DEF02C9BE242842C1C1ABF2C5AA249A1EEB4763B4...</td>\n",
              "      <td>0xE175754CF77247B202DD0820F49407C762C14A603B3A...</td>\n",
              "      <td>0</td>\n",
              "      <td>0.0</td>\n",
              "      <td>0.0</td>\n",
              "      <td>0</td>\n",
              "      <td>0</td>\n",
              "      <td>0</td>\n",
              "      <td>0</td>\n",
              "      <td>0</td>\n",
              "      <td>-1</td>\n",
              "      <td>-1</td>\n",
              "      <td>Travel Agent/Operator</td>\n",
              "      <td>Travel Agent/Operator</td>\n",
              "      <td>0</td>\n",
              "      <td>0</td>\n",
              "      <td>0</td>\n",
              "      <td>0</td>\n",
              "      <td>0</td>\n",
              "      <td>0</td>\n",
              "      <td>0</td>\n",
              "      <td>0</td>\n",
              "      <td>0</td>\n",
              "      <td>0</td>\n",
              "      <td>0</td>\n",
              "      <td>0</td>\n",
              "      <td>0</td>\n",
              "    </tr>\n",
              "  </tbody>\n",
              "</table>\n",
              "</div>"
            ],
            "text/plain": [
              "   ID Nationality   Age  ...  SRAwayFromElevator SRNoAlcoholInMiniBar SRQuietRoom\n",
              "0   1         PRT  51.0  ...                   0                    0           0\n",
              "1   2         PRT   NaN  ...                   0                    0           0\n",
              "2   3         DEU  31.0  ...                   0                    0           0\n",
              "3   4         FRA  60.0  ...                   0                    0           0\n",
              "4   5         FRA  51.0  ...                   0                    0           0\n",
              "\n",
              "[5 rows x 31 columns]"
            ]
          },
          "metadata": {},
          "execution_count": 198
        }
      ]
    },
    {
      "cell_type": "markdown",
      "metadata": {
        "id": "MMdX66ONIqCa"
      },
      "source": [
        "## Understanding and preparing data"
      ]
    },
    {
      "cell_type": "code",
      "metadata": {
        "id": "_2ZSVmlSIqCa"
      },
      "source": [
        "df.set_index('ID',inplace=True)"
      ],
      "execution_count": null,
      "outputs": []
    },
    {
      "cell_type": "code",
      "metadata": {
        "id": "byFH9NB2IqCb"
      },
      "source": [
        "# Dropping unusable features for further analysis\n",
        "df = df.drop(columns=['Nationality','NameHash','DocIDHash'])"
      ],
      "execution_count": null,
      "outputs": []
    },
    {
      "cell_type": "code",
      "metadata": {
        "id": "Ljm1ENhLIqCb",
        "colab": {
          "base_uri": "https://localhost:8080/"
        },
        "outputId": "9209bd39-1858-4eca-b847-66072aefc5d9"
      },
      "source": [
        "df.info()"
      ],
      "execution_count": null,
      "outputs": [
        {
          "output_type": "stream",
          "name": "stdout",
          "text": [
            "<class 'pandas.core.frame.DataFrame'>\n",
            "Int64Index: 83590 entries, 1 to 83590\n",
            "Data columns (total 27 columns):\n",
            " #   Column                Non-Null Count  Dtype  \n",
            "---  ------                --------------  -----  \n",
            " 0   Age                   79811 non-null  float64\n",
            " 1   DaysSinceCreation     83590 non-null  int64  \n",
            " 2   AverageLeadTime       83590 non-null  int64  \n",
            " 3   LodgingRevenue        83590 non-null  float64\n",
            " 4   OtherRevenue          83590 non-null  float64\n",
            " 5   BookingsCanceled      83590 non-null  int64  \n",
            " 6   BookingsNoShowed      83590 non-null  int64  \n",
            " 7   BookingsCheckedIn     83590 non-null  int64  \n",
            " 8   PersonsNights         83590 non-null  int64  \n",
            " 9   RoomNights            83590 non-null  int64  \n",
            " 10  DaysSinceLastStay     83590 non-null  int64  \n",
            " 11  DaysSinceFirstStay    83590 non-null  int64  \n",
            " 12  DistributionChannel   83590 non-null  object \n",
            " 13  MarketSegment         83590 non-null  object \n",
            " 14  SRHighFloor           83590 non-null  int64  \n",
            " 15  SRLowFloor            83590 non-null  int64  \n",
            " 16  SRAccessibleRoom      83590 non-null  int64  \n",
            " 17  SRMediumFloor         83590 non-null  int64  \n",
            " 18  SRBathtub             83590 non-null  int64  \n",
            " 19  SRShower              83590 non-null  int64  \n",
            " 20  SRCrib                83590 non-null  int64  \n",
            " 21  SRKingSizeBed         83590 non-null  int64  \n",
            " 22  SRTwinBed             83590 non-null  int64  \n",
            " 23  SRNearElevator        83590 non-null  int64  \n",
            " 24  SRAwayFromElevator    83590 non-null  int64  \n",
            " 25  SRNoAlcoholInMiniBar  83590 non-null  int64  \n",
            " 26  SRQuietRoom           83590 non-null  int64  \n",
            "dtypes: float64(3), int64(22), object(2)\n",
            "memory usage: 17.9+ MB\n"
          ]
        }
      ]
    },
    {
      "cell_type": "code",
      "metadata": {
        "id": "TbwljyhYIqCc",
        "colab": {
          "base_uri": "https://localhost:8080/",
          "height": 323
        },
        "outputId": "8de9081e-2e5c-408c-a02c-29d49c17ead0"
      },
      "source": [
        "df.iloc[:,:15].head()"
      ],
      "execution_count": null,
      "outputs": [
        {
          "output_type": "execute_result",
          "data": {
            "text/html": [
              "<div>\n",
              "<style scoped>\n",
              "    .dataframe tbody tr th:only-of-type {\n",
              "        vertical-align: middle;\n",
              "    }\n",
              "\n",
              "    .dataframe tbody tr th {\n",
              "        vertical-align: top;\n",
              "    }\n",
              "\n",
              "    .dataframe thead th {\n",
              "        text-align: right;\n",
              "    }\n",
              "</style>\n",
              "<table border=\"1\" class=\"dataframe\">\n",
              "  <thead>\n",
              "    <tr style=\"text-align: right;\">\n",
              "      <th></th>\n",
              "      <th>Age</th>\n",
              "      <th>DaysSinceCreation</th>\n",
              "      <th>AverageLeadTime</th>\n",
              "      <th>LodgingRevenue</th>\n",
              "      <th>OtherRevenue</th>\n",
              "      <th>BookingsCanceled</th>\n",
              "      <th>BookingsNoShowed</th>\n",
              "      <th>BookingsCheckedIn</th>\n",
              "      <th>PersonsNights</th>\n",
              "      <th>RoomNights</th>\n",
              "      <th>DaysSinceLastStay</th>\n",
              "      <th>DaysSinceFirstStay</th>\n",
              "      <th>DistributionChannel</th>\n",
              "      <th>MarketSegment</th>\n",
              "      <th>SRHighFloor</th>\n",
              "    </tr>\n",
              "    <tr>\n",
              "      <th>ID</th>\n",
              "      <th></th>\n",
              "      <th></th>\n",
              "      <th></th>\n",
              "      <th></th>\n",
              "      <th></th>\n",
              "      <th></th>\n",
              "      <th></th>\n",
              "      <th></th>\n",
              "      <th></th>\n",
              "      <th></th>\n",
              "      <th></th>\n",
              "      <th></th>\n",
              "      <th></th>\n",
              "      <th></th>\n",
              "      <th></th>\n",
              "    </tr>\n",
              "  </thead>\n",
              "  <tbody>\n",
              "    <tr>\n",
              "      <th>1</th>\n",
              "      <td>51.0</td>\n",
              "      <td>150</td>\n",
              "      <td>45</td>\n",
              "      <td>371.0</td>\n",
              "      <td>105.3</td>\n",
              "      <td>1</td>\n",
              "      <td>0</td>\n",
              "      <td>3</td>\n",
              "      <td>8</td>\n",
              "      <td>5</td>\n",
              "      <td>151</td>\n",
              "      <td>1074</td>\n",
              "      <td>Corporate</td>\n",
              "      <td>Corporate</td>\n",
              "      <td>0</td>\n",
              "    </tr>\n",
              "    <tr>\n",
              "      <th>2</th>\n",
              "      <td>NaN</td>\n",
              "      <td>1095</td>\n",
              "      <td>61</td>\n",
              "      <td>280.0</td>\n",
              "      <td>53.0</td>\n",
              "      <td>0</td>\n",
              "      <td>0</td>\n",
              "      <td>1</td>\n",
              "      <td>10</td>\n",
              "      <td>5</td>\n",
              "      <td>1100</td>\n",
              "      <td>1100</td>\n",
              "      <td>Travel Agent/Operator</td>\n",
              "      <td>Travel Agent/Operator</td>\n",
              "      <td>0</td>\n",
              "    </tr>\n",
              "    <tr>\n",
              "      <th>3</th>\n",
              "      <td>31.0</td>\n",
              "      <td>1095</td>\n",
              "      <td>0</td>\n",
              "      <td>0.0</td>\n",
              "      <td>0.0</td>\n",
              "      <td>0</td>\n",
              "      <td>0</td>\n",
              "      <td>0</td>\n",
              "      <td>0</td>\n",
              "      <td>0</td>\n",
              "      <td>-1</td>\n",
              "      <td>-1</td>\n",
              "      <td>Travel Agent/Operator</td>\n",
              "      <td>Travel Agent/Operator</td>\n",
              "      <td>0</td>\n",
              "    </tr>\n",
              "    <tr>\n",
              "      <th>4</th>\n",
              "      <td>60.0</td>\n",
              "      <td>1095</td>\n",
              "      <td>93</td>\n",
              "      <td>240.0</td>\n",
              "      <td>60.0</td>\n",
              "      <td>0</td>\n",
              "      <td>0</td>\n",
              "      <td>1</td>\n",
              "      <td>10</td>\n",
              "      <td>5</td>\n",
              "      <td>1100</td>\n",
              "      <td>1100</td>\n",
              "      <td>Travel Agent/Operator</td>\n",
              "      <td>Travel Agent/Operator</td>\n",
              "      <td>0</td>\n",
              "    </tr>\n",
              "    <tr>\n",
              "      <th>5</th>\n",
              "      <td>51.0</td>\n",
              "      <td>1095</td>\n",
              "      <td>0</td>\n",
              "      <td>0.0</td>\n",
              "      <td>0.0</td>\n",
              "      <td>0</td>\n",
              "      <td>0</td>\n",
              "      <td>0</td>\n",
              "      <td>0</td>\n",
              "      <td>0</td>\n",
              "      <td>-1</td>\n",
              "      <td>-1</td>\n",
              "      <td>Travel Agent/Operator</td>\n",
              "      <td>Travel Agent/Operator</td>\n",
              "      <td>0</td>\n",
              "    </tr>\n",
              "  </tbody>\n",
              "</table>\n",
              "</div>"
            ],
            "text/plain": [
              "     Age  DaysSinceCreation  ...          MarketSegment  SRHighFloor\n",
              "ID                           ...                                    \n",
              "1   51.0                150  ...              Corporate            0\n",
              "2    NaN               1095  ...  Travel Agent/Operator            0\n",
              "3   31.0               1095  ...  Travel Agent/Operator            0\n",
              "4   60.0               1095  ...  Travel Agent/Operator            0\n",
              "5   51.0               1095  ...  Travel Agent/Operator            0\n",
              "\n",
              "[5 rows x 15 columns]"
            ]
          },
          "metadata": {},
          "execution_count": 202
        }
      ]
    },
    {
      "cell_type": "code",
      "metadata": {
        "id": "qXgKOwvfIqCc",
        "colab": {
          "base_uri": "https://localhost:8080/",
          "height": 255
        },
        "outputId": "3e798f9d-a6bf-4c94-b28b-8d4bc13dfb70"
      },
      "source": [
        "df.iloc[:,16:].head()"
      ],
      "execution_count": null,
      "outputs": [
        {
          "output_type": "execute_result",
          "data": {
            "text/html": [
              "<div>\n",
              "<style scoped>\n",
              "    .dataframe tbody tr th:only-of-type {\n",
              "        vertical-align: middle;\n",
              "    }\n",
              "\n",
              "    .dataframe tbody tr th {\n",
              "        vertical-align: top;\n",
              "    }\n",
              "\n",
              "    .dataframe thead th {\n",
              "        text-align: right;\n",
              "    }\n",
              "</style>\n",
              "<table border=\"1\" class=\"dataframe\">\n",
              "  <thead>\n",
              "    <tr style=\"text-align: right;\">\n",
              "      <th></th>\n",
              "      <th>SRAccessibleRoom</th>\n",
              "      <th>SRMediumFloor</th>\n",
              "      <th>SRBathtub</th>\n",
              "      <th>SRShower</th>\n",
              "      <th>SRCrib</th>\n",
              "      <th>SRKingSizeBed</th>\n",
              "      <th>SRTwinBed</th>\n",
              "      <th>SRNearElevator</th>\n",
              "      <th>SRAwayFromElevator</th>\n",
              "      <th>SRNoAlcoholInMiniBar</th>\n",
              "      <th>SRQuietRoom</th>\n",
              "    </tr>\n",
              "    <tr>\n",
              "      <th>ID</th>\n",
              "      <th></th>\n",
              "      <th></th>\n",
              "      <th></th>\n",
              "      <th></th>\n",
              "      <th></th>\n",
              "      <th></th>\n",
              "      <th></th>\n",
              "      <th></th>\n",
              "      <th></th>\n",
              "      <th></th>\n",
              "      <th></th>\n",
              "    </tr>\n",
              "  </thead>\n",
              "  <tbody>\n",
              "    <tr>\n",
              "      <th>1</th>\n",
              "      <td>0</td>\n",
              "      <td>0</td>\n",
              "      <td>0</td>\n",
              "      <td>0</td>\n",
              "      <td>0</td>\n",
              "      <td>0</td>\n",
              "      <td>0</td>\n",
              "      <td>0</td>\n",
              "      <td>0</td>\n",
              "      <td>0</td>\n",
              "      <td>0</td>\n",
              "    </tr>\n",
              "    <tr>\n",
              "      <th>2</th>\n",
              "      <td>0</td>\n",
              "      <td>0</td>\n",
              "      <td>0</td>\n",
              "      <td>0</td>\n",
              "      <td>0</td>\n",
              "      <td>0</td>\n",
              "      <td>0</td>\n",
              "      <td>0</td>\n",
              "      <td>0</td>\n",
              "      <td>0</td>\n",
              "      <td>0</td>\n",
              "    </tr>\n",
              "    <tr>\n",
              "      <th>3</th>\n",
              "      <td>0</td>\n",
              "      <td>0</td>\n",
              "      <td>0</td>\n",
              "      <td>0</td>\n",
              "      <td>0</td>\n",
              "      <td>0</td>\n",
              "      <td>0</td>\n",
              "      <td>0</td>\n",
              "      <td>0</td>\n",
              "      <td>0</td>\n",
              "      <td>0</td>\n",
              "    </tr>\n",
              "    <tr>\n",
              "      <th>4</th>\n",
              "      <td>0</td>\n",
              "      <td>0</td>\n",
              "      <td>0</td>\n",
              "      <td>0</td>\n",
              "      <td>0</td>\n",
              "      <td>0</td>\n",
              "      <td>0</td>\n",
              "      <td>0</td>\n",
              "      <td>0</td>\n",
              "      <td>0</td>\n",
              "      <td>0</td>\n",
              "    </tr>\n",
              "    <tr>\n",
              "      <th>5</th>\n",
              "      <td>0</td>\n",
              "      <td>0</td>\n",
              "      <td>0</td>\n",
              "      <td>0</td>\n",
              "      <td>0</td>\n",
              "      <td>0</td>\n",
              "      <td>0</td>\n",
              "      <td>0</td>\n",
              "      <td>0</td>\n",
              "      <td>0</td>\n",
              "      <td>0</td>\n",
              "    </tr>\n",
              "  </tbody>\n",
              "</table>\n",
              "</div>"
            ],
            "text/plain": [
              "    SRAccessibleRoom  SRMediumFloor  ...  SRNoAlcoholInMiniBar  SRQuietRoom\n",
              "ID                                   ...                                   \n",
              "1                  0              0  ...                     0            0\n",
              "2                  0              0  ...                     0            0\n",
              "3                  0              0  ...                     0            0\n",
              "4                  0              0  ...                     0            0\n",
              "5                  0              0  ...                     0            0\n",
              "\n",
              "[5 rows x 11 columns]"
            ]
          },
          "metadata": {},
          "execution_count": 203
        }
      ]
    },
    {
      "cell_type": "code",
      "metadata": {
        "id": "i059RYG7IqCd",
        "colab": {
          "base_uri": "https://localhost:8080/",
          "height": 317
        },
        "outputId": "74fe087f-d426-45a6-e2c0-39eb934ff2e0"
      },
      "source": [
        "df.describe()"
      ],
      "execution_count": null,
      "outputs": [
        {
          "output_type": "execute_result",
          "data": {
            "text/html": [
              "<div>\n",
              "<style scoped>\n",
              "    .dataframe tbody tr th:only-of-type {\n",
              "        vertical-align: middle;\n",
              "    }\n",
              "\n",
              "    .dataframe tbody tr th {\n",
              "        vertical-align: top;\n",
              "    }\n",
              "\n",
              "    .dataframe thead th {\n",
              "        text-align: right;\n",
              "    }\n",
              "</style>\n",
              "<table border=\"1\" class=\"dataframe\">\n",
              "  <thead>\n",
              "    <tr style=\"text-align: right;\">\n",
              "      <th></th>\n",
              "      <th>Age</th>\n",
              "      <th>DaysSinceCreation</th>\n",
              "      <th>AverageLeadTime</th>\n",
              "      <th>LodgingRevenue</th>\n",
              "      <th>OtherRevenue</th>\n",
              "      <th>BookingsCanceled</th>\n",
              "      <th>BookingsNoShowed</th>\n",
              "      <th>BookingsCheckedIn</th>\n",
              "      <th>PersonsNights</th>\n",
              "      <th>RoomNights</th>\n",
              "      <th>DaysSinceLastStay</th>\n",
              "      <th>DaysSinceFirstStay</th>\n",
              "      <th>SRHighFloor</th>\n",
              "      <th>SRLowFloor</th>\n",
              "      <th>SRAccessibleRoom</th>\n",
              "      <th>SRMediumFloor</th>\n",
              "      <th>SRBathtub</th>\n",
              "      <th>SRShower</th>\n",
              "      <th>SRCrib</th>\n",
              "      <th>SRKingSizeBed</th>\n",
              "      <th>SRTwinBed</th>\n",
              "      <th>SRNearElevator</th>\n",
              "      <th>SRAwayFromElevator</th>\n",
              "      <th>SRNoAlcoholInMiniBar</th>\n",
              "      <th>SRQuietRoom</th>\n",
              "    </tr>\n",
              "  </thead>\n",
              "  <tbody>\n",
              "    <tr>\n",
              "      <th>count</th>\n",
              "      <td>79811.000000</td>\n",
              "      <td>83590.000000</td>\n",
              "      <td>83590.000000</td>\n",
              "      <td>83590.000000</td>\n",
              "      <td>83590.000000</td>\n",
              "      <td>83590.000000</td>\n",
              "      <td>83590.000000</td>\n",
              "      <td>83590.000000</td>\n",
              "      <td>83590.000000</td>\n",
              "      <td>83590.000000</td>\n",
              "      <td>83590.000000</td>\n",
              "      <td>83590.000000</td>\n",
              "      <td>83590.000000</td>\n",
              "      <td>83590.000000</td>\n",
              "      <td>83590.000000</td>\n",
              "      <td>83590.000000</td>\n",
              "      <td>83590.000000</td>\n",
              "      <td>83590.000000</td>\n",
              "      <td>83590.000000</td>\n",
              "      <td>83590.000000</td>\n",
              "      <td>83590.000000</td>\n",
              "      <td>83590.000000</td>\n",
              "      <td>83590.000000</td>\n",
              "      <td>83590.000000</td>\n",
              "      <td>83590.000000</td>\n",
              "    </tr>\n",
              "    <tr>\n",
              "      <th>mean</th>\n",
              "      <td>45.398028</td>\n",
              "      <td>453.640902</td>\n",
              "      <td>66.196028</td>\n",
              "      <td>298.802087</td>\n",
              "      <td>67.589132</td>\n",
              "      <td>0.002022</td>\n",
              "      <td>0.000634</td>\n",
              "      <td>0.794617</td>\n",
              "      <td>4.649133</td>\n",
              "      <td>2.358536</td>\n",
              "      <td>401.067137</td>\n",
              "      <td>403.349013</td>\n",
              "      <td>0.047482</td>\n",
              "      <td>0.001412</td>\n",
              "      <td>0.000251</td>\n",
              "      <td>0.000873</td>\n",
              "      <td>0.002847</td>\n",
              "      <td>0.001711</td>\n",
              "      <td>0.013219</td>\n",
              "      <td>0.352686</td>\n",
              "      <td>0.142541</td>\n",
              "      <td>0.000335</td>\n",
              "      <td>0.003505</td>\n",
              "      <td>0.000120</td>\n",
              "      <td>0.088372</td>\n",
              "    </tr>\n",
              "    <tr>\n",
              "      <th>std</th>\n",
              "      <td>16.572368</td>\n",
              "      <td>313.390291</td>\n",
              "      <td>87.758990</td>\n",
              "      <td>372.851892</td>\n",
              "      <td>114.327776</td>\n",
              "      <td>0.066770</td>\n",
              "      <td>0.029545</td>\n",
              "      <td>0.695778</td>\n",
              "      <td>4.567673</td>\n",
              "      <td>2.281746</td>\n",
              "      <td>347.204955</td>\n",
              "      <td>347.971089</td>\n",
              "      <td>0.212668</td>\n",
              "      <td>0.037546</td>\n",
              "      <td>0.015848</td>\n",
              "      <td>0.029539</td>\n",
              "      <td>0.053284</td>\n",
              "      <td>0.041326</td>\n",
              "      <td>0.114213</td>\n",
              "      <td>0.477809</td>\n",
              "      <td>0.349606</td>\n",
              "      <td>0.018299</td>\n",
              "      <td>0.059101</td>\n",
              "      <td>0.010937</td>\n",
              "      <td>0.283837</td>\n",
              "    </tr>\n",
              "    <tr>\n",
              "      <th>min</th>\n",
              "      <td>-11.000000</td>\n",
              "      <td>0.000000</td>\n",
              "      <td>-1.000000</td>\n",
              "      <td>0.000000</td>\n",
              "      <td>0.000000</td>\n",
              "      <td>0.000000</td>\n",
              "      <td>0.000000</td>\n",
              "      <td>0.000000</td>\n",
              "      <td>0.000000</td>\n",
              "      <td>0.000000</td>\n",
              "      <td>-1.000000</td>\n",
              "      <td>-1.000000</td>\n",
              "      <td>0.000000</td>\n",
              "      <td>0.000000</td>\n",
              "      <td>0.000000</td>\n",
              "      <td>0.000000</td>\n",
              "      <td>0.000000</td>\n",
              "      <td>0.000000</td>\n",
              "      <td>0.000000</td>\n",
              "      <td>0.000000</td>\n",
              "      <td>0.000000</td>\n",
              "      <td>0.000000</td>\n",
              "      <td>0.000000</td>\n",
              "      <td>0.000000</td>\n",
              "      <td>0.000000</td>\n",
              "    </tr>\n",
              "    <tr>\n",
              "      <th>25%</th>\n",
              "      <td>34.000000</td>\n",
              "      <td>177.000000</td>\n",
              "      <td>0.000000</td>\n",
              "      <td>59.000000</td>\n",
              "      <td>2.000000</td>\n",
              "      <td>0.000000</td>\n",
              "      <td>0.000000</td>\n",
              "      <td>1.000000</td>\n",
              "      <td>1.000000</td>\n",
              "      <td>1.000000</td>\n",
              "      <td>26.000000</td>\n",
              "      <td>27.000000</td>\n",
              "      <td>0.000000</td>\n",
              "      <td>0.000000</td>\n",
              "      <td>0.000000</td>\n",
              "      <td>0.000000</td>\n",
              "      <td>0.000000</td>\n",
              "      <td>0.000000</td>\n",
              "      <td>0.000000</td>\n",
              "      <td>0.000000</td>\n",
              "      <td>0.000000</td>\n",
              "      <td>0.000000</td>\n",
              "      <td>0.000000</td>\n",
              "      <td>0.000000</td>\n",
              "      <td>0.000000</td>\n",
              "    </tr>\n",
              "    <tr>\n",
              "      <th>50%</th>\n",
              "      <td>46.000000</td>\n",
              "      <td>397.000000</td>\n",
              "      <td>29.000000</td>\n",
              "      <td>234.000000</td>\n",
              "      <td>38.500000</td>\n",
              "      <td>0.000000</td>\n",
              "      <td>0.000000</td>\n",
              "      <td>1.000000</td>\n",
              "      <td>4.000000</td>\n",
              "      <td>2.000000</td>\n",
              "      <td>366.000000</td>\n",
              "      <td>369.000000</td>\n",
              "      <td>0.000000</td>\n",
              "      <td>0.000000</td>\n",
              "      <td>0.000000</td>\n",
              "      <td>0.000000</td>\n",
              "      <td>0.000000</td>\n",
              "      <td>0.000000</td>\n",
              "      <td>0.000000</td>\n",
              "      <td>0.000000</td>\n",
              "      <td>0.000000</td>\n",
              "      <td>0.000000</td>\n",
              "      <td>0.000000</td>\n",
              "      <td>0.000000</td>\n",
              "      <td>0.000000</td>\n",
              "    </tr>\n",
              "    <tr>\n",
              "      <th>75%</th>\n",
              "      <td>57.000000</td>\n",
              "      <td>723.000000</td>\n",
              "      <td>103.000000</td>\n",
              "      <td>402.000000</td>\n",
              "      <td>87.675000</td>\n",
              "      <td>0.000000</td>\n",
              "      <td>0.000000</td>\n",
              "      <td>1.000000</td>\n",
              "      <td>6.000000</td>\n",
              "      <td>4.000000</td>\n",
              "      <td>693.000000</td>\n",
              "      <td>697.000000</td>\n",
              "      <td>0.000000</td>\n",
              "      <td>0.000000</td>\n",
              "      <td>0.000000</td>\n",
              "      <td>0.000000</td>\n",
              "      <td>0.000000</td>\n",
              "      <td>0.000000</td>\n",
              "      <td>0.000000</td>\n",
              "      <td>1.000000</td>\n",
              "      <td>0.000000</td>\n",
              "      <td>0.000000</td>\n",
              "      <td>0.000000</td>\n",
              "      <td>0.000000</td>\n",
              "      <td>0.000000</td>\n",
              "    </tr>\n",
              "    <tr>\n",
              "      <th>max</th>\n",
              "      <td>122.000000</td>\n",
              "      <td>1095.000000</td>\n",
              "      <td>588.000000</td>\n",
              "      <td>21781.000000</td>\n",
              "      <td>7730.250000</td>\n",
              "      <td>9.000000</td>\n",
              "      <td>3.000000</td>\n",
              "      <td>66.000000</td>\n",
              "      <td>116.000000</td>\n",
              "      <td>185.000000</td>\n",
              "      <td>1104.000000</td>\n",
              "      <td>1186.000000</td>\n",
              "      <td>1.000000</td>\n",
              "      <td>1.000000</td>\n",
              "      <td>1.000000</td>\n",
              "      <td>1.000000</td>\n",
              "      <td>1.000000</td>\n",
              "      <td>1.000000</td>\n",
              "      <td>1.000000</td>\n",
              "      <td>1.000000</td>\n",
              "      <td>1.000000</td>\n",
              "      <td>1.000000</td>\n",
              "      <td>1.000000</td>\n",
              "      <td>1.000000</td>\n",
              "      <td>1.000000</td>\n",
              "    </tr>\n",
              "  </tbody>\n",
              "</table>\n",
              "</div>"
            ],
            "text/plain": [
              "                Age  DaysSinceCreation  ...  SRNoAlcoholInMiniBar   SRQuietRoom\n",
              "count  79811.000000       83590.000000  ...          83590.000000  83590.000000\n",
              "mean      45.398028         453.640902  ...              0.000120      0.088372\n",
              "std       16.572368         313.390291  ...              0.010937      0.283837\n",
              "min      -11.000000           0.000000  ...              0.000000      0.000000\n",
              "25%       34.000000         177.000000  ...              0.000000      0.000000\n",
              "50%       46.000000         397.000000  ...              0.000000      0.000000\n",
              "75%       57.000000         723.000000  ...              0.000000      0.000000\n",
              "max      122.000000        1095.000000  ...              1.000000      1.000000\n",
              "\n",
              "[8 rows x 25 columns]"
            ]
          },
          "metadata": {},
          "execution_count": 204
        }
      ]
    },
    {
      "cell_type": "code",
      "metadata": {
        "id": "mbao0Y2EIqCd",
        "colab": {
          "base_uri": "https://localhost:8080/"
        },
        "outputId": "70816821-ffb6-49c5-94bf-bc4d7c0b65d8"
      },
      "source": [
        "df.nunique()"
      ],
      "execution_count": null,
      "outputs": [
        {
          "output_type": "execute_result",
          "data": {
            "text/plain": [
              "Age                       105\n",
              "DaysSinceCreation        1095\n",
              "AverageLeadTime           418\n",
              "LodgingRevenue          10257\n",
              "OtherRevenue             4490\n",
              "BookingsCanceled            6\n",
              "BookingsNoShowed            4\n",
              "BookingsCheckedIn          29\n",
              "PersonsNights              56\n",
              "RoomNights                 48\n",
              "DaysSinceLastStay        1105\n",
              "DaysSinceFirstStay       1108\n",
              "DistributionChannel         4\n",
              "MarketSegment               7\n",
              "SRHighFloor                 2\n",
              "SRLowFloor                  2\n",
              "SRAccessibleRoom            2\n",
              "SRMediumFloor               2\n",
              "SRBathtub                   2\n",
              "SRShower                    2\n",
              "SRCrib                      2\n",
              "SRKingSizeBed               2\n",
              "SRTwinBed                   2\n",
              "SRNearElevator              2\n",
              "SRAwayFromElevator          2\n",
              "SRNoAlcoholInMiniBar        2\n",
              "SRQuietRoom                 2\n",
              "dtype: int64"
            ]
          },
          "metadata": {},
          "execution_count": 205
        }
      ]
    },
    {
      "cell_type": "markdown",
      "metadata": {
        "id": "s2V7Dv1WIqCe"
      },
      "source": [
        "## Inference\n",
        "* We can clearly see that from SRHighFloor onwards all the columns are catrgorical deemed as numerical"
      ]
    },
    {
      "cell_type": "code",
      "metadata": {
        "id": "kgXyU93CIqCe"
      },
      "source": [
        "# Converting the above mentioned features to categorical variable for further analysis\n",
        "df.iloc[:,14:] = df.iloc[:,14:].astype('object') "
      ],
      "execution_count": null,
      "outputs": []
    },
    {
      "cell_type": "code",
      "metadata": {
        "id": "H7CspDFtIqCf",
        "colab": {
          "base_uri": "https://localhost:8080/"
        },
        "outputId": "2ef1d9f9-f7cc-414f-82cf-ea645e8b60db"
      },
      "source": [
        "df.info()"
      ],
      "execution_count": null,
      "outputs": [
        {
          "output_type": "stream",
          "name": "stdout",
          "text": [
            "<class 'pandas.core.frame.DataFrame'>\n",
            "Int64Index: 83590 entries, 1 to 83590\n",
            "Data columns (total 27 columns):\n",
            " #   Column                Non-Null Count  Dtype  \n",
            "---  ------                --------------  -----  \n",
            " 0   Age                   79811 non-null  float64\n",
            " 1   DaysSinceCreation     83590 non-null  int64  \n",
            " 2   AverageLeadTime       83590 non-null  int64  \n",
            " 3   LodgingRevenue        83590 non-null  float64\n",
            " 4   OtherRevenue          83590 non-null  float64\n",
            " 5   BookingsCanceled      83590 non-null  int64  \n",
            " 6   BookingsNoShowed      83590 non-null  int64  \n",
            " 7   BookingsCheckedIn     83590 non-null  int64  \n",
            " 8   PersonsNights         83590 non-null  int64  \n",
            " 9   RoomNights            83590 non-null  int64  \n",
            " 10  DaysSinceLastStay     83590 non-null  int64  \n",
            " 11  DaysSinceFirstStay    83590 non-null  int64  \n",
            " 12  DistributionChannel   83590 non-null  object \n",
            " 13  MarketSegment         83590 non-null  object \n",
            " 14  SRHighFloor           83590 non-null  object \n",
            " 15  SRLowFloor            83590 non-null  object \n",
            " 16  SRAccessibleRoom      83590 non-null  object \n",
            " 17  SRMediumFloor         83590 non-null  object \n",
            " 18  SRBathtub             83590 non-null  object \n",
            " 19  SRShower              83590 non-null  object \n",
            " 20  SRCrib                83590 non-null  object \n",
            " 21  SRKingSizeBed         83590 non-null  object \n",
            " 22  SRTwinBed             83590 non-null  object \n",
            " 23  SRNearElevator        83590 non-null  object \n",
            " 24  SRAwayFromElevator    83590 non-null  object \n",
            " 25  SRNoAlcoholInMiniBar  83590 non-null  object \n",
            " 26  SRQuietRoom           83590 non-null  object \n",
            "dtypes: float64(3), int64(9), object(15)\n",
            "memory usage: 17.9+ MB\n"
          ]
        }
      ]
    },
    {
      "cell_type": "code",
      "metadata": {
        "id": "8WjvoSWJIqCg",
        "colab": {
          "base_uri": "https://localhost:8080/",
          "height": 193
        },
        "outputId": "6baa9b6d-2a2d-43a3-9683-22a713739f51"
      },
      "source": [
        "df.describe(include='object')"
      ],
      "execution_count": null,
      "outputs": [
        {
          "output_type": "execute_result",
          "data": {
            "text/html": [
              "<div>\n",
              "<style scoped>\n",
              "    .dataframe tbody tr th:only-of-type {\n",
              "        vertical-align: middle;\n",
              "    }\n",
              "\n",
              "    .dataframe tbody tr th {\n",
              "        vertical-align: top;\n",
              "    }\n",
              "\n",
              "    .dataframe thead th {\n",
              "        text-align: right;\n",
              "    }\n",
              "</style>\n",
              "<table border=\"1\" class=\"dataframe\">\n",
              "  <thead>\n",
              "    <tr style=\"text-align: right;\">\n",
              "      <th></th>\n",
              "      <th>DistributionChannel</th>\n",
              "      <th>MarketSegment</th>\n",
              "      <th>SRHighFloor</th>\n",
              "      <th>SRLowFloor</th>\n",
              "      <th>SRAccessibleRoom</th>\n",
              "      <th>SRMediumFloor</th>\n",
              "      <th>SRBathtub</th>\n",
              "      <th>SRShower</th>\n",
              "      <th>SRCrib</th>\n",
              "      <th>SRKingSizeBed</th>\n",
              "      <th>SRTwinBed</th>\n",
              "      <th>SRNearElevator</th>\n",
              "      <th>SRAwayFromElevator</th>\n",
              "      <th>SRNoAlcoholInMiniBar</th>\n",
              "      <th>SRQuietRoom</th>\n",
              "    </tr>\n",
              "  </thead>\n",
              "  <tbody>\n",
              "    <tr>\n",
              "      <th>count</th>\n",
              "      <td>83590</td>\n",
              "      <td>83590</td>\n",
              "      <td>83590</td>\n",
              "      <td>83590</td>\n",
              "      <td>83590</td>\n",
              "      <td>83590</td>\n",
              "      <td>83590</td>\n",
              "      <td>83590</td>\n",
              "      <td>83590</td>\n",
              "      <td>83590</td>\n",
              "      <td>83590</td>\n",
              "      <td>83590</td>\n",
              "      <td>83590</td>\n",
              "      <td>83590</td>\n",
              "      <td>83590</td>\n",
              "    </tr>\n",
              "    <tr>\n",
              "      <th>unique</th>\n",
              "      <td>4</td>\n",
              "      <td>7</td>\n",
              "      <td>2</td>\n",
              "      <td>2</td>\n",
              "      <td>2</td>\n",
              "      <td>2</td>\n",
              "      <td>2</td>\n",
              "      <td>2</td>\n",
              "      <td>2</td>\n",
              "      <td>2</td>\n",
              "      <td>2</td>\n",
              "      <td>2</td>\n",
              "      <td>2</td>\n",
              "      <td>2</td>\n",
              "      <td>2</td>\n",
              "    </tr>\n",
              "    <tr>\n",
              "      <th>top</th>\n",
              "      <td>Travel Agent/Operator</td>\n",
              "      <td>Other</td>\n",
              "      <td>0</td>\n",
              "      <td>0</td>\n",
              "      <td>0</td>\n",
              "      <td>0</td>\n",
              "      <td>0</td>\n",
              "      <td>0</td>\n",
              "      <td>0</td>\n",
              "      <td>0</td>\n",
              "      <td>0</td>\n",
              "      <td>0</td>\n",
              "      <td>0</td>\n",
              "      <td>0</td>\n",
              "      <td>0</td>\n",
              "    </tr>\n",
              "    <tr>\n",
              "      <th>freq</th>\n",
              "      <td>68569</td>\n",
              "      <td>48039</td>\n",
              "      <td>79621</td>\n",
              "      <td>83472</td>\n",
              "      <td>83569</td>\n",
              "      <td>83517</td>\n",
              "      <td>83352</td>\n",
              "      <td>83447</td>\n",
              "      <td>82485</td>\n",
              "      <td>54109</td>\n",
              "      <td>71675</td>\n",
              "      <td>83562</td>\n",
              "      <td>83297</td>\n",
              "      <td>83580</td>\n",
              "      <td>76203</td>\n",
              "    </tr>\n",
              "  </tbody>\n",
              "</table>\n",
              "</div>"
            ],
            "text/plain": [
              "          DistributionChannel MarketSegment  ...  SRNoAlcoholInMiniBar  SRQuietRoom\n",
              "count                   83590         83590  ...                 83590        83590\n",
              "unique                      4             7  ...                     2            2\n",
              "top     Travel Agent/Operator         Other  ...                     0            0\n",
              "freq                    68569         48039  ...                 83580        76203\n",
              "\n",
              "[4 rows x 15 columns]"
            ]
          },
          "metadata": {},
          "execution_count": 208
        }
      ]
    },
    {
      "cell_type": "markdown",
      "metadata": {
        "id": "a5V73gwCIqCg"
      },
      "source": [
        "## Data Cleaning and EDA"
      ]
    },
    {
      "cell_type": "code",
      "metadata": {
        "id": "Z9ekOoHFIqCh",
        "colab": {
          "base_uri": "https://localhost:8080/"
        },
        "outputId": "15abd2b8-f780-4355-f730-a5c2a15cc642"
      },
      "source": [
        "# Finding null values and its treatment\n",
        "df.isnull().sum()*100/len(df)"
      ],
      "execution_count": null,
      "outputs": [
        {
          "output_type": "execute_result",
          "data": {
            "text/plain": [
              "Age                     4.520876\n",
              "DaysSinceCreation       0.000000\n",
              "AverageLeadTime         0.000000\n",
              "LodgingRevenue          0.000000\n",
              "OtherRevenue            0.000000\n",
              "BookingsCanceled        0.000000\n",
              "BookingsNoShowed        0.000000\n",
              "BookingsCheckedIn       0.000000\n",
              "PersonsNights           0.000000\n",
              "RoomNights              0.000000\n",
              "DaysSinceLastStay       0.000000\n",
              "DaysSinceFirstStay      0.000000\n",
              "DistributionChannel     0.000000\n",
              "MarketSegment           0.000000\n",
              "SRHighFloor             0.000000\n",
              "SRLowFloor              0.000000\n",
              "SRAccessibleRoom        0.000000\n",
              "SRMediumFloor           0.000000\n",
              "SRBathtub               0.000000\n",
              "SRShower                0.000000\n",
              "SRCrib                  0.000000\n",
              "SRKingSizeBed           0.000000\n",
              "SRTwinBed               0.000000\n",
              "SRNearElevator          0.000000\n",
              "SRAwayFromElevator      0.000000\n",
              "SRNoAlcoholInMiniBar    0.000000\n",
              "SRQuietRoom             0.000000\n",
              "dtype: float64"
            ]
          },
          "metadata": {},
          "execution_count": 209
        }
      ]
    },
    {
      "cell_type": "code",
      "metadata": {
        "id": "6BmrR_ESIqCh"
      },
      "source": [
        "df = df.dropna()"
      ],
      "execution_count": null,
      "outputs": []
    },
    {
      "cell_type": "code",
      "metadata": {
        "id": "HMtt-6dFIqCi",
        "colab": {
          "base_uri": "https://localhost:8080/",
          "height": 1000
        },
        "outputId": "391c0b13-c263-41ae-ce78-8f6084b85d31"
      },
      "source": [
        "# checking for outliers\n",
        "\n",
        "for i in df.select_dtypes('number').columns:\n",
        "    sns.boxplot(df[i])\n",
        "    plt.show()"
      ],
      "execution_count": null,
      "outputs": [
        {
          "output_type": "stream",
          "name": "stderr",
          "text": [
            "/usr/local/lib/python3.7/dist-packages/seaborn/_decorators.py:43: FutureWarning: Pass the following variable as a keyword arg: x. From version 0.12, the only valid positional argument will be `data`, and passing other arguments without an explicit keyword will result in an error or misinterpretation.\n",
            "  FutureWarning\n"
          ]
        },
        {
          "output_type": "display_data",
          "data": {
            "image/png": "[encoded data removed]",
            "text/plain": [
              "<Figure size 432x288 with 1 Axes>"
            ]
          },
          "metadata": {}
        },
        {
          "output_type": "stream",
          "name": "stderr",
          "text": [
            "/usr/local/lib/python3.7/dist-packages/seaborn/_decorators.py:43: FutureWarning: Pass the following variable as a keyword arg: x. From version 0.12, the only valid positional argument will be `data`, and passing other arguments without an explicit keyword will result in an error or misinterpretation.\n",
            "  FutureWarning\n"
          ]
        },
        {
          "output_type": "display_data",
          "data": {
            "image/png": "[encoded data removed]",
            "text/plain": [
              "<Figure size 432x288 with 1 Axes>"
            ]
          },
          "metadata": {}
        },
        {
          "output_type": "stream",
          "name": "stderr",
          "text": [
            "/usr/local/lib/python3.7/dist-packages/seaborn/_decorators.py:43: FutureWarning: Pass the following variable as a keyword arg: x. From version 0.12, the only valid positional argument will be `data`, and passing other arguments without an explicit keyword will result in an error or misinterpretation.\n",
            "  FutureWarning\n"
          ]
        },
        {
          "output_type": "display_data",
          "data": {
            "image/png": "[encoded data removed]",
            "text/plain": [
              "<Figure size 432x288 with 1 Axes>"
            ]
          },
          "metadata": {}
        },
        {
          "output_type": "stream",
          "name": "stderr",
          "text": [
            "/usr/local/lib/python3.7/dist-packages/seaborn/_decorators.py:43: FutureWarning: Pass the following variable as a keyword arg: x. From version 0.12, the only valid positional argument will be `data`, and passing other arguments without an explicit keyword will result in an error or misinterpretation.\n",
            "  FutureWarning\n"
          ]
        },
        {
          "output_type": "display_data",
          "data": {
            "image/png": "[encoded data removed]",
            "text/plain": [
              "<Figure size 432x288 with 1 Axes>"
            ]
          },
          "metadata": {}
        },
        {
          "output_type": "stream",
          "name": "stderr",
          "text": [
            "/usr/local/lib/python3.7/dist-packages/seaborn/_decorators.py:43: FutureWarning: Pass the following variable as a keyword arg: x. From version 0.12, the only valid positional argument will be `data`, and passing other arguments without an explicit keyword will result in an error or misinterpretation.\n",
            "  FutureWarning\n"
          ]
        },
        {
          "output_type": "display_data",
          "data": {
            "image/png": "[encoded data removed]",
            "text/plain": [
              "<Figure size 432x288 with 1 Axes>"
            ]
          },
          "metadata": {}
        },
        {
          "output_type": "stream",
          "name": "stderr",
          "text": [
            "/usr/local/lib/python3.7/dist-packages/seaborn/_decorators.py:43: FutureWarning: Pass the following variable as a keyword arg: x. From version 0.12, the only valid positional argument will be `data`, and passing other arguments without an explicit keyword will result in an error or misinterpretation.\n",
            "  FutureWarning\n"
          ]
        },
        {
          "output_type": "display_data",
          "data": {
            "image/png": "[encoded data removed]",
            "text/plain": [
              "<Figure size 432x288 with 1 Axes>"
            ]
          },
          "metadata": {}
        },
        {
          "output_type": "stream",
          "name": "stderr",
          "text": [
            "/usr/local/lib/python3.7/dist-packages/seaborn/_decorators.py:43: FutureWarning: Pass the following variable as a keyword arg: x. From version 0.12, the only valid positional argument will be `data`, and passing other arguments without an explicit keyword will result in an error or misinterpretation.\n",
            "  FutureWarning\n"
          ]
        },
        {
          "output_type": "display_data",
          "data": {
            "image/png": "[encoded data removed]",
            "text/plain": [
              "<Figure size 432x288 with 1 Axes>"
            ]
          },
          "metadata": {}
        },
        {
          "output_type": "stream",
          "name": "stderr",
          "text": [
            "/usr/local/lib/python3.7/dist-packages/seaborn/_decorators.py:43: FutureWarning: Pass the following variable as a keyword arg: x. From version 0.12, the only valid positional argument will be `data`, and passing other arguments without an explicit keyword will result in an error or misinterpretation.\n",
            "  FutureWarning\n"
          ]
        },
        {
          "output_type": "display_data",
          "data": {
            "image/png": "[encoded data removed]",
            "text/plain": [
              "<Figure size 432x288 with 1 Axes>"
            ]
          },
          "metadata": {}
        },
        {
          "output_type": "stream",
          "name": "stderr",
          "text": [
            "/usr/local/lib/python3.7/dist-packages/seaborn/_decorators.py:43: FutureWarning: Pass the following variable as a keyword arg: x. From version 0.12, the only valid positional argument will be `data`, and passing other arguments without an explicit keyword will result in an error or misinterpretation.\n",
            "  FutureWarning\n"
          ]
        },
        {
          "output_type": "display_data",
          "data": {
            "image/png": "[encoded data removed]",
            "text/plain": [
              "<Figure size 432x288 with 1 Axes>"
            ]
          },
          "metadata": {}
        },
        {
          "output_type": "stream",
          "name": "stderr",
          "text": [
            "/usr/local/lib/python3.7/dist-packages/seaborn/_decorators.py:43: FutureWarning: Pass the following variable as a keyword arg: x. From version 0.12, the only valid positional argument will be `data`, and passing other arguments without an explicit keyword will result in an error or misinterpretation.\n",
            "  FutureWarning\n"
          ]
        },
        {
          "output_type": "display_data",
          "data": {
            "image/png": "[encoded data removed]",
            "text/plain": [
              "<Figure size 432x288 with 1 Axes>"
            ]
          },
          "metadata": {}
        },
        {
          "output_type": "stream",
          "name": "stderr",
          "text": [
            "/usr/local/lib/python3.7/dist-packages/seaborn/_decorators.py:43: FutureWarning: Pass the following variable as a keyword arg: x. From version 0.12, the only valid positional argument will be `data`, and passing other arguments without an explicit keyword will result in an error or misinterpretation.\n",
            "  FutureWarning\n"
          ]
        },
        {
          "output_type": "display_data",
          "data": {
            "image/png": "[encoded data removed]",
            "text/plain": [
              "<Figure size 432x288 with 1 Axes>"
            ]
          },
          "metadata": {}
        },
        {
          "output_type": "stream",
          "name": "stderr",
          "text": [
            "/usr/local/lib/python3.7/dist-packages/seaborn/_decorators.py:43: FutureWarning: Pass the following variable as a keyword arg: x. From version 0.12, the only valid positional argument will be `data`, and passing other arguments without an explicit keyword will result in an error or misinterpretation.\n",
            "  FutureWarning\n"
          ]
        },
        {
          "output_type": "display_data",
          "data": {
            "image/png": "[encoded data removed]",
            "text/plain": [
              "<Figure size 432x288 with 1 Axes>"
            ]
          },
          "metadata": {}
        }
      ]
    },
    {
      "cell_type": "code",
      "metadata": {
        "id": "3iSEsMBgIqCi"
      },
      "source": [
        "# There are features with outliers"
      ],
      "execution_count": null,
      "outputs": []
    },
    {
      "cell_type": "code",
      "metadata": {
        "id": "VCtd3bERIqCj"
      },
      "source": [
        "def iqr_capping(df,cols,factor):    \n",
        "    for col in cols:\n",
        "        q1 = df[col].quantile(0.25)\n",
        "        q3 = df[col].quantile(0.75)\n",
        "        iqr = q3-q1\n",
        "        ll = q1-(factor*iqr)\n",
        "        ul = q3+(factor*iqr)\n",
        "        for ind in df[col].index:\n",
        "            if df.loc[ind,col] < ll:\n",
        "                df.loc[ind,col] = ll\n",
        "            elif df.loc[ind,col] > ul:\n",
        "                df.loc[ind,col] = ul"
      ],
      "execution_count": null,
      "outputs": []
    },
    {
      "cell_type": "code",
      "metadata": {
        "id": "nob9HOwFIqCj"
      },
      "source": [
        "df1 = df.copy(deep=True)\n",
        "cols = df1.select_dtypes('number')"
      ],
      "execution_count": null,
      "outputs": []
    },
    {
      "cell_type": "code",
      "metadata": {
        "id": "XDNn5CZNIqCk"
      },
      "source": [
        "iqr_capping(df1,cols,1.5)"
      ],
      "execution_count": null,
      "outputs": []
    },
    {
      "cell_type": "code",
      "metadata": {
        "id": "wFimphsfIqCk",
        "colab": {
          "base_uri": "https://localhost:8080/",
          "height": 1000
        },
        "outputId": "5dba6c2e-7b0e-49a7-ed5e-1c9ef00e0f27"
      },
      "source": [
        "for i in df.select_dtypes('number').columns:\n",
        "    sns.boxplot(df1[i])\n",
        "    plt.show()"
      ],
      "execution_count": null,
      "outputs": [
        {
          "output_type": "stream",
          "name": "stderr",
          "text": [
            "/usr/local/lib/python3.7/dist-packages/seaborn/_decorators.py:43: FutureWarning: Pass the following variable as a keyword arg: x. From version 0.12, the only valid positional argument will be `data`, and passing other arguments without an explicit keyword will result in an error or misinterpretation.\n",
            "  FutureWarning\n"
          ]
        },
        {
          "output_type": "display_data",
          "data": {
            "image/png": "[encoded data removed]",
            "text/plain": [
              "<Figure size 432x288 with 1 Axes>"
            ]
          },
          "metadata": {}
        },
        {
          "output_type": "stream",
          "name": "stderr",
          "text": [
            "/usr/local/lib/python3.7/dist-packages/seaborn/_decorators.py:43: FutureWarning: Pass the following variable as a keyword arg: x. From version 0.12, the only valid positional argument will be `data`, and passing other arguments without an explicit keyword will result in an error or misinterpretation.\n",
            "  FutureWarning\n"
          ]
        },
        {
          "output_type": "display_data",
          "data": {
            "image/png": "[encoded data removed]",
            "text/plain": [
              "<Figure size 432x288 with 1 Axes>"
            ]
          },
          "metadata": {}
        },
        {
          "output_type": "stream",
          "name": "stderr",
          "text": [
            "/usr/local/lib/python3.7/dist-packages/seaborn/_decorators.py:43: FutureWarning: Pass the following variable as a keyword arg: x. From version 0.12, the only valid positional argument will be `data`, and passing other arguments without an explicit keyword will result in an error or misinterpretation.\n",
            "  FutureWarning\n"
          ]
        },
        {
          "output_type": "display_data",
          "data": {
            "image/png": "[encoded data removed]",
            "text/plain": [
              "<Figure size 432x288 with 1 Axes>"
            ]
          },
          "metadata": {}
        },
        {
          "output_type": "stream",
          "name": "stderr",
          "text": [
            "/usr/local/lib/python3.7/dist-packages/seaborn/_decorators.py:43: FutureWarning: Pass the following variable as a keyword arg: x. From version 0.12, the only valid positional argument will be `data`, and passing other arguments without an explicit keyword will result in an error or misinterpretation.\n",
            "  FutureWarning\n"
          ]
        },
        {
          "output_type": "display_data",
          "data": {
            "image/png": "[encoded data removed]",
            "text/plain": [
              "<Figure size 432x288 with 1 Axes>"
            ]
          },
          "metadata": {}
        },
        {
          "output_type": "stream",
          "name": "stderr",
          "text": [
            "/usr/local/lib/python3.7/dist-packages/seaborn/_decorators.py:43: FutureWarning: Pass the following variable as a keyword arg: x. From version 0.12, the only valid positional argument will be `data`, and passing other arguments without an explicit keyword will result in an error or misinterpretation.\n",
            "  FutureWarning\n"
          ]
        },
        {
          "output_type": "display_data",
          "data": {
            "image/png": "[encoded data removed]",
            "text/plain": [
              "<Figure size 432x288 with 1 Axes>"
            ]
          },
          "metadata": {}
        },
        {
          "output_type": "stream",
          "name": "stderr",
          "text": [
            "/usr/local/lib/python3.7/dist-packages/seaborn/_decorators.py:43: FutureWarning: Pass the following variable as a keyword arg: x. From version 0.12, the only valid positional argument will be `data`, and passing other arguments without an explicit keyword will result in an error or misinterpretation.\n",
            "  FutureWarning\n"
          ]
        },
        {
          "output_type": "display_data",
          "data": {
            "image/png": "[encoded data removed]",
            "text/plain": [
              "<Figure size 432x288 with 1 Axes>"
            ]
          },
          "metadata": {}
        },
        {
          "output_type": "stream",
          "name": "stderr",
          "text": [
            "/usr/local/lib/python3.7/dist-packages/seaborn/_decorators.py:43: FutureWarning: Pass the following variable as a keyword arg: x. From version 0.12, the only valid positional argument will be `data`, and passing other arguments without an explicit keyword will result in an error or misinterpretation.\n",
            "  FutureWarning\n"
          ]
        },
        {
          "output_type": "display_data",
          "data": {
            "image/png": "[encoded data removed]",
            "text/plain": [
              "<Figure size 432x288 with 1 Axes>"
            ]
          },
          "metadata": {}
        },
        {
          "output_type": "stream",
          "name": "stderr",
          "text": [
            "/usr/local/lib/python3.7/dist-packages/seaborn/_decorators.py:43: FutureWarning: Pass the following variable as a keyword arg: x. From version 0.12, the only valid positional argument will be `data`, and passing other arguments without an explicit keyword will result in an error or misinterpretation.\n",
            "  FutureWarning\n"
          ]
        },
        {
          "output_type": "display_data",
          "data": {
            "image/png": "[encoded data removed]",
            "text/plain": [
              "<Figure size 432x288 with 1 Axes>"
            ]
          },
          "metadata": {}
        },
        {
          "output_type": "stream",
          "name": "stderr",
          "text": [
            "/usr/local/lib/python3.7/dist-packages/seaborn/_decorators.py:43: FutureWarning: Pass the following variable as a keyword arg: x. From version 0.12, the only valid positional argument will be `data`, and passing other arguments without an explicit keyword will result in an error or misinterpretation.\n",
            "  FutureWarning\n"
          ]
        },
        {
          "output_type": "display_data",
          "data": {
            "image/png": "[encoded data removed]",
            "text/plain": [
              "<Figure size 432x288 with 1 Axes>"
            ]
          },
          "metadata": {}
        }
      ]
    },
    {
      "cell_type": "code",
      "metadata": {
        "id": "N_MQjhf6IqCk",
        "colab": {
          "base_uri": "https://localhost:8080/"
        },
        "outputId": "ebd43f16-2a16-45df-ec0f-7834a3735bd7"
      },
      "source": [
        "df1.nunique()"
      ],
      "execution_count": null,
      "outputs": [
        {
          "output_type": "execute_result",
          "data": {
            "text/plain": [
              "Age                       94\n",
              "DaysSinceCreation       1095\n",
              "AverageLeadTime          262\n",
              "LodgingRevenue          8222\n",
              "OtherRevenue            2585\n",
              "BookingsCanceled           1\n",
              "BookingsNoShowed           1\n",
              "BookingsCheckedIn          1\n",
              "PersonsNights             20\n",
              "RoomNights                10\n",
              "DaysSinceLastStay       1105\n",
              "DaysSinceFirstStay      1106\n",
              "DistributionChannel        4\n",
              "MarketSegment              7\n",
              "SRHighFloor                2\n",
              "SRLowFloor                 2\n",
              "SRAccessibleRoom           2\n",
              "SRMediumFloor              2\n",
              "SRBathtub                  2\n",
              "SRShower                   2\n",
              "SRCrib                     2\n",
              "SRKingSizeBed              2\n",
              "SRTwinBed                  2\n",
              "SRNearElevator             2\n",
              "SRAwayFromElevator         2\n",
              "SRNoAlcoholInMiniBar       2\n",
              "SRQuietRoom                2\n",
              "dtype: int64"
            ]
          },
          "metadata": {},
          "execution_count": 217
        }
      ]
    },
    {
      "cell_type": "code",
      "metadata": {
        "id": "QpwfSjQOIqCl"
      },
      "source": [
        "# As the unique values are less but still it is a numerical feature , we will replace the new features with old ones\n",
        "df1.BookingsCanceled = df.BookingsCanceled\n",
        "df1.BookingsNoShowed = df.BookingsNoShowed\n",
        "df1.BookingsCheckedIn = df.BookingsCheckedIn\n"
      ],
      "execution_count": null,
      "outputs": []
    },
    {
      "cell_type": "code",
      "metadata": {
        "id": "NlEnPc1CIqCl",
        "colab": {
          "base_uri": "https://localhost:8080/"
        },
        "outputId": "54ee1882-a9b1-4524-cfc1-a26af46f4ea0"
      },
      "source": [
        "df.nunique()"
      ],
      "execution_count": null,
      "outputs": [
        {
          "output_type": "execute_result",
          "data": {
            "text/plain": [
              "Age                       105\n",
              "DaysSinceCreation        1095\n",
              "AverageLeadTime           417\n",
              "LodgingRevenue          10031\n",
              "OtherRevenue             4393\n",
              "BookingsCanceled            6\n",
              "BookingsNoShowed            4\n",
              "BookingsCheckedIn          28\n",
              "PersonsNights              54\n",
              "RoomNights                 45\n",
              "DaysSinceLastStay        1105\n",
              "DaysSinceFirstStay       1106\n",
              "DistributionChannel         4\n",
              "MarketSegment               7\n",
              "SRHighFloor                 2\n",
              "SRLowFloor                  2\n",
              "SRAccessibleRoom            2\n",
              "SRMediumFloor               2\n",
              "SRBathtub                   2\n",
              "SRShower                    2\n",
              "SRCrib                      2\n",
              "SRKingSizeBed               2\n",
              "SRTwinBed                   2\n",
              "SRNearElevator              2\n",
              "SRAwayFromElevator          2\n",
              "SRNoAlcoholInMiniBar        2\n",
              "SRQuietRoom                 2\n",
              "dtype: int64"
            ]
          },
          "metadata": {},
          "execution_count": 219
        }
      ]
    },
    {
      "cell_type": "code",
      "metadata": {
        "id": "-6e4hWQ6IqCl",
        "colab": {
          "base_uri": "https://localhost:8080/",
          "height": 1000
        },
        "outputId": "c429ed4d-1efb-472d-f56c-a9bc4bae4c42"
      },
      "source": [
        "# Checking the distribution of numerical variable\n",
        "for i in df1.select_dtypes('number'):\n",
        "    sns.displot(df1[i],kind='kde')\n",
        "    plt.show()"
      ],
      "execution_count": null,
      "outputs": [
        {
          "output_type": "display_data",
          "data": {
            "image/png": "[encoded data removed]",
            "text/plain": [
              "<Figure size 360x360 with 1 Axes>"
            ]
          },
          "metadata": {}
        },
        {
          "output_type": "display_data",
          "data": {
            "image/png": "[encoded data removed]",
            "text/plain": [
              "<Figure size 360x360 with 1 Axes>"
            ]
          },
          "metadata": {}
        },
        {
          "output_type": "display_data",
          "data": {
            "image/png": "[encoded data removed]",
            "text/plain": [
              "<Figure size 360x360 with 1 Axes>"
            ]
          },
          "metadata": {}
        },
        {
          "output_type": "display_data",
          "data": {
            "image/png": "[encoded data removed]",
            "text/plain": [
              "<Figure size 360x360 with 1 Axes>"
            ]
          },
          "metadata": {}
        },
        {
          "output_type": "display_data",
          "data": {
            "image/png": "[encoded data removed]",
            "text/plain": [
              "<Figure size 360x360 with 1 Axes>"
            ]
          },
          "metadata": {}
        },
        {
          "output_type": "display_data",
          "data": {
            "image/png": "[encoded data removed]",
            "text/plain": [
              "<Figure size 360x360 with 1 Axes>"
            ]
          },
          "metadata": {}
        },
        {
          "output_type": "display_data",
          "data": {
            "image/png": "[encoded data removed]",
            "text/plain": [
              "<Figure size 360x360 with 1 Axes>"
            ]
          },
          "metadata": {}
        },
        {
          "output_type": "display_data",
          "data": {
            "image/png": "[encoded data removed]",
            "text/plain": [
              "<Figure size 360x360 with 1 Axes>"
            ]
          },
          "metadata": {}
        },
        {
          "output_type": "display_data",
          "data": {
            "image/png": "[encoded data removed]",
            "text/plain": [
              "<Figure size 360x360 with 1 Axes>"
            ]
          },
          "metadata": {}
        },
        {
          "output_type": "display_data",
          "data": {
            "image/png": "[encoded data removed]",
            "text/plain": [
              "<Figure size 360x360 with 1 Axes>"
            ]
          },
          "metadata": {}
        },
        {
          "output_type": "display_data",
          "data": {
            "image/png": "[encoded data removed]",
            "text/plain": [
              "<Figure size 360x360 with 1 Axes>"
            ]
          },
          "metadata": {}
        },
        {
          "output_type": "display_data",
          "data": {
            "image/png": "[encoded data removed]",
            "text/plain": [
              "<Figure size 360x360 with 1 Axes>"
            ]
          },
          "metadata": {}
        }
      ]
    },
    {
      "cell_type": "code",
      "metadata": {
        "id": "6S1u-U-VIqCm"
      },
      "source": [
        "# skewed and multimodal distributions are present within the dataset"
      ],
      "execution_count": null,
      "outputs": []
    },
    {
      "cell_type": "markdown",
      "metadata": {
        "id": "0GJnJS4iUely"
      },
      "source": [
        "## Data preprocessing"
      ]
    },
    {
      "cell_type": "code",
      "metadata": {
        "id": "-cZMuRnbUkTV"
      },
      "source": [
        "import scipy.stats as stats\n",
        "from sklearn.preprocessing import LabelEncoder"
      ],
      "execution_count": null,
      "outputs": []
    },
    {
      "cell_type": "code",
      "metadata": {
        "id": "ZvL0hSk9UkO0"
      },
      "source": [
        "# Scaling the numerical columns\n",
        "df_scaled = df1.copy(deep=True)\n",
        "df_scaled.iloc[:,:12] = df_scaled.iloc[:,:12].apply(stats.zscore) "
      ],
      "execution_count": null,
      "outputs": []
    },
    {
      "cell_type": "code",
      "metadata": {
        "id": "pBsEnOUgUkK2",
        "colab": {
          "base_uri": "https://localhost:8080/",
          "height": 306
        },
        "outputId": "ab6d8767-33df-46f8-cffa-d3ce4a34d494"
      },
      "source": [
        "df_scaled.head()"
      ],
      "execution_count": null,
      "outputs": [
        {
          "output_type": "execute_result",
          "data": {
            "text/html": [
              "<div>\n",
              "<style scoped>\n",
              "    .dataframe tbody tr th:only-of-type {\n",
              "        vertical-align: middle;\n",
              "    }\n",
              "\n",
              "    .dataframe tbody tr th {\n",
              "        vertical-align: top;\n",
              "    }\n",
              "\n",
              "    .dataframe thead th {\n",
              "        text-align: right;\n",
              "    }\n",
              "</style>\n",
              "<table border=\"1\" class=\"dataframe\">\n",
              "  <thead>\n",
              "    <tr style=\"text-align: right;\">\n",
              "      <th></th>\n",
              "      <th>Age</th>\n",
              "      <th>DaysSinceCreation</th>\n",
              "      <th>AverageLeadTime</th>\n",
              "      <th>LodgingRevenue</th>\n",
              "      <th>OtherRevenue</th>\n",
              "      <th>BookingsCanceled</th>\n",
              "      <th>BookingsNoShowed</th>\n",
              "      <th>BookingsCheckedIn</th>\n",
              "      <th>PersonsNights</th>\n",
              "      <th>RoomNights</th>\n",
              "      <th>DaysSinceLastStay</th>\n",
              "      <th>DaysSinceFirstStay</th>\n",
              "      <th>DistributionChannel</th>\n",
              "      <th>MarketSegment</th>\n",
              "      <th>SRHighFloor</th>\n",
              "      <th>SRLowFloor</th>\n",
              "      <th>SRAccessibleRoom</th>\n",
              "      <th>SRMediumFloor</th>\n",
              "      <th>SRBathtub</th>\n",
              "      <th>SRShower</th>\n",
              "      <th>SRCrib</th>\n",
              "      <th>SRKingSizeBed</th>\n",
              "      <th>SRTwinBed</th>\n",
              "      <th>SRNearElevator</th>\n",
              "      <th>SRAwayFromElevator</th>\n",
              "      <th>SRNoAlcoholInMiniBar</th>\n",
              "      <th>SRQuietRoom</th>\n",
              "    </tr>\n",
              "    <tr>\n",
              "      <th>ID</th>\n",
              "      <th></th>\n",
              "      <th></th>\n",
              "      <th></th>\n",
              "      <th></th>\n",
              "      <th></th>\n",
              "      <th></th>\n",
              "      <th></th>\n",
              "      <th></th>\n",
              "      <th></th>\n",
              "      <th></th>\n",
              "      <th></th>\n",
              "      <th></th>\n",
              "      <th></th>\n",
              "      <th></th>\n",
              "      <th></th>\n",
              "      <th></th>\n",
              "      <th></th>\n",
              "      <th></th>\n",
              "      <th></th>\n",
              "      <th></th>\n",
              "      <th></th>\n",
              "      <th></th>\n",
              "      <th></th>\n",
              "      <th></th>\n",
              "      <th></th>\n",
              "      <th></th>\n",
              "      <th></th>\n",
              "    </tr>\n",
              "  </thead>\n",
              "  <tbody>\n",
              "    <tr>\n",
              "      <th>1</th>\n",
              "      <td>0.338333</td>\n",
              "      <td>-0.954492</td>\n",
              "      <td>-0.240162</td>\n",
              "      <td>0.371089</td>\n",
              "      <td>0.725495</td>\n",
              "      <td>15.143822</td>\n",
              "      <td>-0.020358</td>\n",
              "      <td>3.196630</td>\n",
              "      <td>0.790512</td>\n",
              "      <td>1.377434</td>\n",
              "      <td>-0.708012</td>\n",
              "      <td>1.967200</td>\n",
              "      <td>Corporate</td>\n",
              "      <td>Corporate</td>\n",
              "      <td>0</td>\n",
              "      <td>0</td>\n",
              "      <td>0</td>\n",
              "      <td>0</td>\n",
              "      <td>0</td>\n",
              "      <td>0</td>\n",
              "      <td>0</td>\n",
              "      <td>0</td>\n",
              "      <td>0</td>\n",
              "      <td>0</td>\n",
              "      <td>0</td>\n",
              "      <td>0</td>\n",
              "      <td>0</td>\n",
              "    </tr>\n",
              "    <tr>\n",
              "      <th>3</th>\n",
              "      <td>-0.869389</td>\n",
              "      <td>2.087820</td>\n",
              "      <td>-0.829286</td>\n",
              "      <td>-1.085578</td>\n",
              "      <td>-0.906456</td>\n",
              "      <td>-0.027944</td>\n",
              "      <td>-0.020358</td>\n",
              "      <td>-1.148484</td>\n",
              "      <td>-1.085936</td>\n",
              "      <td>-1.214466</td>\n",
              "      <td>-1.150318</td>\n",
              "      <td>-1.154204</td>\n",
              "      <td>Travel Agent/Operator</td>\n",
              "      <td>Travel Agent/Operator</td>\n",
              "      <td>0</td>\n",
              "      <td>0</td>\n",
              "      <td>0</td>\n",
              "      <td>0</td>\n",
              "      <td>0</td>\n",
              "      <td>0</td>\n",
              "      <td>0</td>\n",
              "      <td>0</td>\n",
              "      <td>0</td>\n",
              "      <td>0</td>\n",
              "      <td>0</td>\n",
              "      <td>0</td>\n",
              "      <td>0</td>\n",
              "    </tr>\n",
              "    <tr>\n",
              "      <th>4</th>\n",
              "      <td>0.881808</td>\n",
              "      <td>2.087820</td>\n",
              "      <td>0.388237</td>\n",
              "      <td>-0.143260</td>\n",
              "      <td>0.023430</td>\n",
              "      <td>-0.027944</td>\n",
              "      <td>-0.020358</td>\n",
              "      <td>0.299888</td>\n",
              "      <td>1.259624</td>\n",
              "      <td>1.377434</td>\n",
              "      <td>2.053493</td>\n",
              "      <td>2.042694</td>\n",
              "      <td>Travel Agent/Operator</td>\n",
              "      <td>Travel Agent/Operator</td>\n",
              "      <td>0</td>\n",
              "      <td>0</td>\n",
              "      <td>0</td>\n",
              "      <td>0</td>\n",
              "      <td>0</td>\n",
              "      <td>0</td>\n",
              "      <td>0</td>\n",
              "      <td>0</td>\n",
              "      <td>0</td>\n",
              "      <td>0</td>\n",
              "      <td>0</td>\n",
              "      <td>0</td>\n",
              "      <td>0</td>\n",
              "    </tr>\n",
              "    <tr>\n",
              "      <th>5</th>\n",
              "      <td>0.338333</td>\n",
              "      <td>2.087820</td>\n",
              "      <td>-0.829286</td>\n",
              "      <td>-1.085578</td>\n",
              "      <td>-0.906456</td>\n",
              "      <td>-0.027944</td>\n",
              "      <td>-0.020358</td>\n",
              "      <td>-1.148484</td>\n",
              "      <td>-1.085936</td>\n",
              "      <td>-1.214466</td>\n",
              "      <td>-1.150318</td>\n",
              "      <td>-1.154204</td>\n",
              "      <td>Travel Agent/Operator</td>\n",
              "      <td>Travel Agent/Operator</td>\n",
              "      <td>0</td>\n",
              "      <td>0</td>\n",
              "      <td>0</td>\n",
              "      <td>0</td>\n",
              "      <td>0</td>\n",
              "      <td>0</td>\n",
              "      <td>0</td>\n",
              "      <td>0</td>\n",
              "      <td>0</td>\n",
              "      <td>0</td>\n",
              "      <td>0</td>\n",
              "      <td>0</td>\n",
              "      <td>0</td>\n",
              "    </tr>\n",
              "    <tr>\n",
              "      <th>6</th>\n",
              "      <td>0.519491</td>\n",
              "      <td>2.087820</td>\n",
              "      <td>-0.069971</td>\n",
              "      <td>-0.182523</td>\n",
              "      <td>-0.534502</td>\n",
              "      <td>-0.027944</td>\n",
              "      <td>-0.020358</td>\n",
              "      <td>0.299888</td>\n",
              "      <td>-0.147712</td>\n",
              "      <td>-0.177706</td>\n",
              "      <td>2.044763</td>\n",
              "      <td>2.033983</td>\n",
              "      <td>Travel Agent/Operator</td>\n",
              "      <td>Other</td>\n",
              "      <td>0</td>\n",
              "      <td>0</td>\n",
              "      <td>0</td>\n",
              "      <td>0</td>\n",
              "      <td>0</td>\n",
              "      <td>0</td>\n",
              "      <td>0</td>\n",
              "      <td>0</td>\n",
              "      <td>0</td>\n",
              "      <td>0</td>\n",
              "      <td>0</td>\n",
              "      <td>0</td>\n",
              "      <td>0</td>\n",
              "    </tr>\n",
              "  </tbody>\n",
              "</table>\n",
              "</div>"
            ],
            "text/plain": [
              "         Age  DaysSinceCreation  ...  SRNoAlcoholInMiniBar  SRQuietRoom\n",
              "ID                               ...                                   \n",
              "1   0.338333          -0.954492  ...                     0            0\n",
              "3  -0.869389           2.087820  ...                     0            0\n",
              "4   0.881808           2.087820  ...                     0            0\n",
              "5   0.338333           2.087820  ...                     0            0\n",
              "6   0.519491           2.087820  ...                     0            0\n",
              "\n",
              "[5 rows x 27 columns]"
            ]
          },
          "metadata": {},
          "execution_count": 224
        }
      ]
    },
    {
      "cell_type": "code",
      "metadata": {
        "id": "4XrLCTm6WV_S"
      },
      "source": [
        "col_encode = df_scaled.iloc[:,12:14]"
      ],
      "execution_count": null,
      "outputs": []
    },
    {
      "cell_type": "code",
      "metadata": {
        "id": "kwbEmm-aUkEq"
      },
      "source": [
        "le = LabelEncoder()\n",
        "for i in col_encode.columns:\n",
        "  df_scaled[i] = le.fit_transform(df_scaled[i])"
      ],
      "execution_count": null,
      "outputs": []
    },
    {
      "cell_type": "code",
      "metadata": {
        "id": "8wE1qfLlUeWw",
        "colab": {
          "base_uri": "https://localhost:8080/",
          "height": 255
        },
        "outputId": "028264a2-6710-4465-9261-53d3ff314459"
      },
      "source": [
        "df_scaled.head()"
      ],
      "execution_count": null,
      "outputs": [
        {
          "output_type": "execute_result",
          "data": {
            "text/html": [
              "<div>\n",
              "<style scoped>\n",
              "    .dataframe tbody tr th:only-of-type {\n",
              "        vertical-align: middle;\n",
              "    }\n",
              "\n",
              "    .dataframe tbody tr th {\n",
              "        vertical-align: top;\n",
              "    }\n",
              "\n",
              "    .dataframe thead th {\n",
              "        text-align: right;\n",
              "    }\n",
              "</style>\n",
              "<table border=\"1\" class=\"dataframe\">\n",
              "  <thead>\n",
              "    <tr style=\"text-align: right;\">\n",
              "      <th></th>\n",
              "      <th>Age</th>\n",
              "      <th>DaysSinceCreation</th>\n",
              "      <th>AverageLeadTime</th>\n",
              "      <th>LodgingRevenue</th>\n",
              "      <th>OtherRevenue</th>\n",
              "      <th>BookingsCanceled</th>\n",
              "      <th>BookingsNoShowed</th>\n",
              "      <th>BookingsCheckedIn</th>\n",
              "      <th>PersonsNights</th>\n",
              "      <th>RoomNights</th>\n",
              "      <th>DaysSinceLastStay</th>\n",
              "      <th>DaysSinceFirstStay</th>\n",
              "      <th>DistributionChannel</th>\n",
              "      <th>MarketSegment</th>\n",
              "      <th>SRHighFloor</th>\n",
              "      <th>SRLowFloor</th>\n",
              "      <th>SRAccessibleRoom</th>\n",
              "      <th>SRMediumFloor</th>\n",
              "      <th>SRBathtub</th>\n",
              "      <th>SRShower</th>\n",
              "      <th>SRCrib</th>\n",
              "      <th>SRKingSizeBed</th>\n",
              "      <th>SRTwinBed</th>\n",
              "      <th>SRNearElevator</th>\n",
              "      <th>SRAwayFromElevator</th>\n",
              "      <th>SRNoAlcoholInMiniBar</th>\n",
              "      <th>SRQuietRoom</th>\n",
              "    </tr>\n",
              "    <tr>\n",
              "      <th>ID</th>\n",
              "      <th></th>\n",
              "      <th></th>\n",
              "      <th></th>\n",
              "      <th></th>\n",
              "      <th></th>\n",
              "      <th></th>\n",
              "      <th></th>\n",
              "      <th></th>\n",
              "      <th></th>\n",
              "      <th></th>\n",
              "      <th></th>\n",
              "      <th></th>\n",
              "      <th></th>\n",
              "      <th></th>\n",
              "      <th></th>\n",
              "      <th></th>\n",
              "      <th></th>\n",
              "      <th></th>\n",
              "      <th></th>\n",
              "      <th></th>\n",
              "      <th></th>\n",
              "      <th></th>\n",
              "      <th></th>\n",
              "      <th></th>\n",
              "      <th></th>\n",
              "      <th></th>\n",
              "      <th></th>\n",
              "    </tr>\n",
              "  </thead>\n",
              "  <tbody>\n",
              "    <tr>\n",
              "      <th>1</th>\n",
              "      <td>0.338333</td>\n",
              "      <td>-0.954492</td>\n",
              "      <td>-0.240162</td>\n",
              "      <td>0.371089</td>\n",
              "      <td>0.725495</td>\n",
              "      <td>15.143822</td>\n",
              "      <td>-0.020358</td>\n",
              "      <td>3.196630</td>\n",
              "      <td>0.790512</td>\n",
              "      <td>1.377434</td>\n",
              "      <td>-0.708012</td>\n",
              "      <td>1.967200</td>\n",
              "      <td>0</td>\n",
              "      <td>2</td>\n",
              "      <td>0</td>\n",
              "      <td>0</td>\n",
              "      <td>0</td>\n",
              "      <td>0</td>\n",
              "      <td>0</td>\n",
              "      <td>0</td>\n",
              "      <td>0</td>\n",
              "      <td>0</td>\n",
              "      <td>0</td>\n",
              "      <td>0</td>\n",
              "      <td>0</td>\n",
              "      <td>0</td>\n",
              "      <td>0</td>\n",
              "    </tr>\n",
              "    <tr>\n",
              "      <th>3</th>\n",
              "      <td>-0.869389</td>\n",
              "      <td>2.087820</td>\n",
              "      <td>-0.829286</td>\n",
              "      <td>-1.085578</td>\n",
              "      <td>-0.906456</td>\n",
              "      <td>-0.027944</td>\n",
              "      <td>-0.020358</td>\n",
              "      <td>-1.148484</td>\n",
              "      <td>-1.085936</td>\n",
              "      <td>-1.214466</td>\n",
              "      <td>-1.150318</td>\n",
              "      <td>-1.154204</td>\n",
              "      <td>3</td>\n",
              "      <td>6</td>\n",
              "      <td>0</td>\n",
              "      <td>0</td>\n",
              "      <td>0</td>\n",
              "      <td>0</td>\n",
              "      <td>0</td>\n",
              "      <td>0</td>\n",
              "      <td>0</td>\n",
              "      <td>0</td>\n",
              "      <td>0</td>\n",
              "      <td>0</td>\n",
              "      <td>0</td>\n",
              "      <td>0</td>\n",
              "      <td>0</td>\n",
              "    </tr>\n",
              "    <tr>\n",
              "      <th>4</th>\n",
              "      <td>0.881808</td>\n",
              "      <td>2.087820</td>\n",
              "      <td>0.388237</td>\n",
              "      <td>-0.143260</td>\n",
              "      <td>0.023430</td>\n",
              "      <td>-0.027944</td>\n",
              "      <td>-0.020358</td>\n",
              "      <td>0.299888</td>\n",
              "      <td>1.259624</td>\n",
              "      <td>1.377434</td>\n",
              "      <td>2.053493</td>\n",
              "      <td>2.042694</td>\n",
              "      <td>3</td>\n",
              "      <td>6</td>\n",
              "      <td>0</td>\n",
              "      <td>0</td>\n",
              "      <td>0</td>\n",
              "      <td>0</td>\n",
              "      <td>0</td>\n",
              "      <td>0</td>\n",
              "      <td>0</td>\n",
              "      <td>0</td>\n",
              "      <td>0</td>\n",
              "      <td>0</td>\n",
              "      <td>0</td>\n",
              "      <td>0</td>\n",
              "      <td>0</td>\n",
              "    </tr>\n",
              "    <tr>\n",
              "      <th>5</th>\n",
              "      <td>0.338333</td>\n",
              "      <td>2.087820</td>\n",
              "      <td>-0.829286</td>\n",
              "      <td>-1.085578</td>\n",
              "      <td>-0.906456</td>\n",
              "      <td>-0.027944</td>\n",
              "      <td>-0.020358</td>\n",
              "      <td>-1.148484</td>\n",
              "      <td>-1.085936</td>\n",
              "      <td>-1.214466</td>\n",
              "      <td>-1.150318</td>\n",
              "      <td>-1.154204</td>\n",
              "      <td>3</td>\n",
              "      <td>6</td>\n",
              "      <td>0</td>\n",
              "      <td>0</td>\n",
              "      <td>0</td>\n",
              "      <td>0</td>\n",
              "      <td>0</td>\n",
              "      <td>0</td>\n",
              "      <td>0</td>\n",
              "      <td>0</td>\n",
              "      <td>0</td>\n",
              "      <td>0</td>\n",
              "      <td>0</td>\n",
              "      <td>0</td>\n",
              "      <td>0</td>\n",
              "    </tr>\n",
              "    <tr>\n",
              "      <th>6</th>\n",
              "      <td>0.519491</td>\n",
              "      <td>2.087820</td>\n",
              "      <td>-0.069971</td>\n",
              "      <td>-0.182523</td>\n",
              "      <td>-0.534502</td>\n",
              "      <td>-0.027944</td>\n",
              "      <td>-0.020358</td>\n",
              "      <td>0.299888</td>\n",
              "      <td>-0.147712</td>\n",
              "      <td>-0.177706</td>\n",
              "      <td>2.044763</td>\n",
              "      <td>2.033983</td>\n",
              "      <td>3</td>\n",
              "      <td>5</td>\n",
              "      <td>0</td>\n",
              "      <td>0</td>\n",
              "      <td>0</td>\n",
              "      <td>0</td>\n",
              "      <td>0</td>\n",
              "      <td>0</td>\n",
              "      <td>0</td>\n",
              "      <td>0</td>\n",
              "      <td>0</td>\n",
              "      <td>0</td>\n",
              "      <td>0</td>\n",
              "      <td>0</td>\n",
              "      <td>0</td>\n",
              "    </tr>\n",
              "  </tbody>\n",
              "</table>\n",
              "</div>"
            ],
            "text/plain": [
              "         Age  DaysSinceCreation  ...  SRNoAlcoholInMiniBar  SRQuietRoom\n",
              "ID                               ...                                   \n",
              "1   0.338333          -0.954492  ...                     0            0\n",
              "3  -0.869389           2.087820  ...                     0            0\n",
              "4   0.881808           2.087820  ...                     0            0\n",
              "5   0.338333           2.087820  ...                     0            0\n",
              "6   0.519491           2.087820  ...                     0            0\n",
              "\n",
              "[5 rows x 27 columns]"
            ]
          },
          "metadata": {},
          "execution_count": 227
        }
      ]
    },
    {
      "cell_type": "code",
      "metadata": {
        "id": "-0ZbZQrRXmfv",
        "colab": {
          "base_uri": "https://localhost:8080/"
        },
        "outputId": "f6dd042b-a57f-40f0-daba-39008b8cbbb5"
      },
      "source": [
        "# converting categorical to numeric types for futher clustering and modelling\n",
        "df_scaled.info()"
      ],
      "execution_count": null,
      "outputs": [
        {
          "output_type": "stream",
          "name": "stdout",
          "text": [
            "<class 'pandas.core.frame.DataFrame'>\n",
            "Int64Index: 79811 entries, 1 to 83590\n",
            "Data columns (total 27 columns):\n",
            " #   Column                Non-Null Count  Dtype  \n",
            "---  ------                --------------  -----  \n",
            " 0   Age                   79811 non-null  float64\n",
            " 1   DaysSinceCreation     79811 non-null  float64\n",
            " 2   AverageLeadTime       79811 non-null  float64\n",
            " 3   LodgingRevenue        79811 non-null  float64\n",
            " 4   OtherRevenue          79811 non-null  float64\n",
            " 5   BookingsCanceled      79811 non-null  float64\n",
            " 6   BookingsNoShowed      79811 non-null  float64\n",
            " 7   BookingsCheckedIn     79811 non-null  float64\n",
            " 8   PersonsNights         79811 non-null  float64\n",
            " 9   RoomNights            79811 non-null  float64\n",
            " 10  DaysSinceLastStay     79811 non-null  float64\n",
            " 11  DaysSinceFirstStay    79811 non-null  float64\n",
            " 12  DistributionChannel   79811 non-null  int64  \n",
            " 13  MarketSegment         79811 non-null  int64  \n",
            " 14  SRHighFloor           79811 non-null  object \n",
            " 15  SRLowFloor            79811 non-null  object \n",
            " 16  SRAccessibleRoom      79811 non-null  object \n",
            " 17  SRMediumFloor         79811 non-null  object \n",
            " 18  SRBathtub             79811 non-null  object \n",
            " 19  SRShower              79811 non-null  object \n",
            " 20  SRCrib                79811 non-null  object \n",
            " 21  SRKingSizeBed         79811 non-null  object \n",
            " 22  SRTwinBed             79811 non-null  object \n",
            " 23  SRNearElevator        79811 non-null  object \n",
            " 24  SRAwayFromElevator    79811 non-null  object \n",
            " 25  SRNoAlcoholInMiniBar  79811 non-null  object \n",
            " 26  SRQuietRoom           79811 non-null  object \n",
            "dtypes: float64(12), int64(2), object(13)\n",
            "memory usage: 19.5+ MB\n"
          ]
        }
      ]
    },
    {
      "cell_type": "code",
      "metadata": {
        "id": "62N2l7pWY9vC"
      },
      "source": [
        "df_scaled.iloc[:,14:] = df_scaled.iloc[:,14:].astype('int64')"
      ],
      "execution_count": null,
      "outputs": []
    },
    {
      "cell_type": "code",
      "metadata": {
        "id": "4395rXgoiEMR",
        "colab": {
          "base_uri": "https://localhost:8080/",
          "height": 506
        },
        "outputId": "9e25cc55-09af-4933-a74b-65ec56efdff3"
      },
      "source": [
        "# Checking for correlation\n",
        "plt.figure(figsize=(18,7))\n",
        "sns.heatmap(df1.corr(),annot=True)"
      ],
      "execution_count": null,
      "outputs": [
        {
          "output_type": "execute_result",
          "data": {
            "text/plain": [
              "<matplotlib.axes._subplots.AxesSubplot at 0x7f20d4605950>"
            ]
          },
          "metadata": {},
          "execution_count": 230
        },
        {
          "output_type": "display_data",
          "data": {
            "image/png": "[encoded data removed]",
            "text/plain": [
              "<Figure size 1296x504 with 2 Axes>"
            ]
          },
          "metadata": {}
        }
      ]
    },
    {
      "cell_type": "code",
      "metadata": {
        "id": "u_KazRgBiWsK"
      },
      "source": [
        "# Feature numbers are high and Multi-Collinearity exists , So we are moving forward with PCA"
      ],
      "execution_count": null,
      "outputs": []
    },
    {
      "cell_type": "markdown",
      "metadata": {
        "id": "Pec7QBKBIqCm"
      },
      "source": [
        "## PCA and Clustering"
      ]
    },
    {
      "cell_type": "code",
      "metadata": {
        "id": "sRNxyCapmT8L"
      },
      "source": [
        "from sklearn.cluster import KMeans\n",
        "from sklearn.decomposition import PCA"
      ],
      "execution_count": null,
      "outputs": []
    },
    {
      "cell_type": "code",
      "metadata": {
        "id": "4-5mYKjxiBkh"
      },
      "source": [
        "cov_matrix = np.cov(df_scaled.T)\n",
        "eig_vals = np.linalg.eigvals(cov_matrix)"
      ],
      "execution_count": null,
      "outputs": []
    },
    {
      "cell_type": "code",
      "metadata": {
        "id": "A1fq1LtqiBft",
        "colab": {
          "base_uri": "https://localhost:8080/"
        },
        "outputId": "76fa47f0-96e6-4213-eb2c-f21348c187cd"
      },
      "source": [
        "tot = sum(eig_vals)\n",
        "var_exp = [(i/tot)*100 for i in sorted(eig_vals,reverse=True)]\n",
        "cum_var_exp = np.cumsum(var_exp)\n",
        "cum_var_exp"
      ],
      "execution_count": null,
      "outputs": [
        {
          "output_type": "execute_result",
          "data": {
            "text/plain": [
              "array([ 34.07102552,  48.11187044,  60.52481055,  70.28808239,\n",
              "        77.44725372,  82.39453282,  87.11959415,  90.06175893,\n",
              "        92.43144011,  94.18098187,  95.81030705,  97.03314346,\n",
              "        97.75246502,  98.39908221,  98.95457857,  99.49373607,\n",
              "        99.80913117,  99.89976955,  99.92441686,  99.9459349 ,\n",
              "        99.96625847,  99.97870263,  99.98888094,  99.99499572,\n",
              "        99.99753419,  99.99912149, 100.        ])"
            ]
          },
          "metadata": {},
          "execution_count": 234
        }
      ]
    },
    {
      "cell_type": "code",
      "metadata": {
        "id": "gb47Wn2niBcm",
        "colab": {
          "base_uri": "https://localhost:8080/",
          "height": 387
        },
        "outputId": "56e5b63a-c460-4395-bd08-035ccc0ef62c"
      },
      "source": [
        "plt.figure(figsize=(18,7))\n",
        "plt.plot(range(27),cum_var_exp,marker='*')\n",
        "plt.bar(range(27),var_exp)\n",
        "plt.xticks(ticks = range(0,31,2))\n",
        "plt.yticks(ticks = range(0,101,10))\n",
        "plt.show()"
      ],
      "execution_count": null,
      "outputs": [
        {
          "output_type": "display_data",
          "data": {
            "image/png": "[encoded data removed]",
            "text/plain": [
              "<Figure size 1296x504 with 1 Axes>"
            ]
          },
          "metadata": {}
        }
      ]
    },
    {
      "cell_type": "code",
      "metadata": {
        "id": "-bAEqdqYiBZu"
      },
      "source": [
        "# We need 95% of explained variance and around 10 features explains 95% of variance"
      ],
      "execution_count": null,
      "outputs": []
    },
    {
      "cell_type": "code",
      "metadata": {
        "id": "vcX-LmKDmSQY",
        "colab": {
          "base_uri": "https://localhost:8080/"
        },
        "outputId": "e7b02121-27f8-4244-ad97-b1db6d53a23f"
      },
      "source": [
        "pca = PCA(n_components=10)\n",
        "pca1 = pca.fit_transform(df_scaled)\n",
        "pca1"
      ],
      "execution_count": null,
      "outputs": [
        {
          "output_type": "execute_result",
          "data": {
            "text/plain": [
              "array([[ 2.92323684,  3.46047675, 10.03017851, ..., -4.2690299 ,\n",
              "        -3.90303966,  0.22569086],\n",
              "       [-2.31644789, -1.57811339, -0.72507002, ..., -0.66815176,\n",
              "        -0.38176153,  0.50586275],\n",
              "       [ 3.33396608, -2.29784833, -0.71831332, ...,  0.31136083,\n",
              "        -0.90167403,  0.43056881],\n",
              "       ...,\n",
              "       [-3.21125054,  0.27977105, -0.56282615, ..., -0.10316767,\n",
              "        -0.09689248, -0.60168524],\n",
              "       [ 0.16725609,  2.52031029, -0.90792892, ...,  1.43540398,\n",
              "        -0.67563823,  0.73866069],\n",
              "       [-3.48937663,  0.34364151, -0.42046426, ..., -0.32025593,\n",
              "         0.06680716,  0.5971431 ]])"
            ]
          },
          "metadata": {},
          "execution_count": 237
        }
      ]
    },
    {
      "cell_type": "code",
      "metadata": {
        "id": "A1k8_11aiBWa"
      },
      "source": [
        "pca_df = pd.DataFrame(data = pca1 , columns=['PC1','PC2','PC3','PC4','PC5','PC6','PC7','PC8','PC9','PC10'])"
      ],
      "execution_count": null,
      "outputs": []
    },
    {
      "cell_type": "code",
      "metadata": {
        "id": "65uPlVCbIqCm",
        "colab": {
          "base_uri": "https://localhost:8080/",
          "height": 204
        },
        "outputId": "d87888e7-283d-4996-a978-563ffebd3f33"
      },
      "source": [
        "pca_df.head()"
      ],
      "execution_count": null,
      "outputs": [
        {
          "output_type": "execute_result",
          "data": {
            "text/html": [
              "<div>\n",
              "<style scoped>\n",
              "    .dataframe tbody tr th:only-of-type {\n",
              "        vertical-align: middle;\n",
              "    }\n",
              "\n",
              "    .dataframe tbody tr th {\n",
              "        vertical-align: top;\n",
              "    }\n",
              "\n",
              "    .dataframe thead th {\n",
              "        text-align: right;\n",
              "    }\n",
              "</style>\n",
              "<table border=\"1\" class=\"dataframe\">\n",
              "  <thead>\n",
              "    <tr style=\"text-align: right;\">\n",
              "      <th></th>\n",
              "      <th>PC1</th>\n",
              "      <th>PC2</th>\n",
              "      <th>PC3</th>\n",
              "      <th>PC4</th>\n",
              "      <th>PC5</th>\n",
              "      <th>PC6</th>\n",
              "      <th>PC7</th>\n",
              "      <th>PC8</th>\n",
              "      <th>PC9</th>\n",
              "      <th>PC10</th>\n",
              "    </tr>\n",
              "  </thead>\n",
              "  <tbody>\n",
              "    <tr>\n",
              "      <th>0</th>\n",
              "      <td>2.923237</td>\n",
              "      <td>3.460477</td>\n",
              "      <td>10.030179</td>\n",
              "      <td>5.247114</td>\n",
              "      <td>0.356933</td>\n",
              "      <td>8.390470</td>\n",
              "      <td>1.618644</td>\n",
              "      <td>-4.269030</td>\n",
              "      <td>-3.903040</td>\n",
              "      <td>0.225691</td>\n",
              "    </tr>\n",
              "    <tr>\n",
              "      <th>1</th>\n",
              "      <td>-2.316448</td>\n",
              "      <td>-1.578113</td>\n",
              "      <td>-0.725070</td>\n",
              "      <td>0.933630</td>\n",
              "      <td>-0.893606</td>\n",
              "      <td>-0.138565</td>\n",
              "      <td>0.123063</td>\n",
              "      <td>-0.668152</td>\n",
              "      <td>-0.381762</td>\n",
              "      <td>0.505863</td>\n",
              "    </tr>\n",
              "    <tr>\n",
              "      <th>2</th>\n",
              "      <td>3.333966</td>\n",
              "      <td>-2.297848</td>\n",
              "      <td>-0.718313</td>\n",
              "      <td>0.611513</td>\n",
              "      <td>0.148718</td>\n",
              "      <td>-0.120406</td>\n",
              "      <td>0.351427</td>\n",
              "      <td>0.311361</td>\n",
              "      <td>-0.901674</td>\n",
              "      <td>0.430569</td>\n",
              "    </tr>\n",
              "    <tr>\n",
              "      <th>3</th>\n",
              "      <td>-2.178586</td>\n",
              "      <td>-1.613350</td>\n",
              "      <td>-0.786901</td>\n",
              "      <td>0.983736</td>\n",
              "      <td>0.175243</td>\n",
              "      <td>-0.225297</td>\n",
              "      <td>0.635443</td>\n",
              "      <td>-0.582658</td>\n",
              "      <td>-0.476948</td>\n",
              "      <td>0.518749</td>\n",
              "    </tr>\n",
              "    <tr>\n",
              "      <th>4</th>\n",
              "      <td>1.805635</td>\n",
              "      <td>-3.158955</td>\n",
              "      <td>0.244003</td>\n",
              "      <td>0.339430</td>\n",
              "      <td>0.111656</td>\n",
              "      <td>-0.007660</td>\n",
              "      <td>0.166443</td>\n",
              "      <td>0.302268</td>\n",
              "      <td>-0.258150</td>\n",
              "      <td>0.248435</td>\n",
              "    </tr>\n",
              "  </tbody>\n",
              "</table>\n",
              "</div>"
            ],
            "text/plain": [
              "        PC1       PC2        PC3  ...       PC8       PC9      PC10\n",
              "0  2.923237  3.460477  10.030179  ... -4.269030 -3.903040  0.225691\n",
              "1 -2.316448 -1.578113  -0.725070  ... -0.668152 -0.381762  0.505863\n",
              "2  3.333966 -2.297848  -0.718313  ...  0.311361 -0.901674  0.430569\n",
              "3 -2.178586 -1.613350  -0.786901  ... -0.582658 -0.476948  0.518749\n",
              "4  1.805635 -3.158955   0.244003  ...  0.302268 -0.258150  0.248435\n",
              "\n",
              "[5 rows x 10 columns]"
            ]
          },
          "metadata": {},
          "execution_count": 239
        }
      ]
    },
    {
      "cell_type": "code",
      "metadata": {
        "id": "M0vLXIxhpBiM"
      },
      "source": [
        ""
      ],
      "execution_count": null,
      "outputs": []
    },
    {
      "cell_type": "code",
      "metadata": {
        "id": "cj3YXYr8IqCn"
      },
      "source": [
        "cluster_range = range(1,10)\n",
        "cluster_errors = []\n",
        "\n",
        "for i in cluster_range:\n",
        "  kmeans = KMeans(n_clusters=i)\n",
        "  kmeans.fit(pca_df)\n",
        "  cluster_errors.append(kmeans.inertia_)\n"
      ],
      "execution_count": null,
      "outputs": []
    },
    {
      "cell_type": "code",
      "metadata": {
        "id": "plqrjwqBIqCn",
        "colab": {
          "base_uri": "https://localhost:8080/",
          "height": 401
        },
        "outputId": "4312e447-7054-4715-de7c-4889f2987259"
      },
      "source": [
        "plt.figure(figsize=(18,7))\n",
        "sns.lineplot(x = cluster_range,y = cluster_errors,marker = 'o')\n",
        "plt.show()"
      ],
      "execution_count": null,
      "outputs": [
        {
          "output_type": "display_data",
          "data": {
            "image/png": "[encoded data removed]",
            "text/plain": [
              "<Figure size 1296x504 with 1 Axes>"
            ]
          },
          "metadata": {}
        }
      ]
    },
    {
      "cell_type": "code",
      "metadata": {
        "id": "IKzbLvmTZl5u"
      },
      "source": [
        "# taking n_clusters as 3"
      ],
      "execution_count": null,
      "outputs": []
    },
    {
      "cell_type": "code",
      "metadata": {
        "id": "7TdOhTxEajfB"
      },
      "source": [
        "kmeans = KMeans(n_clusters=3,n_jobs=-1,random_state=7)\n",
        "clusters = kmeans.fit_predict(pca_df)"
      ],
      "execution_count": null,
      "outputs": []
    },
    {
      "cell_type": "code",
      "metadata": {
        "id": "llP__vZ4vNsx"
      },
      "source": [
        "df_scaled['Labels'] = clusters\n",
        "df1['Labels'] = clusters\n",
        "pca_df['Labels'] = clusters"
      ],
      "execution_count": null,
      "outputs": []
    },
    {
      "cell_type": "code",
      "metadata": {
        "id": "73kf-eQ-cD6t",
        "colab": {
          "base_uri": "https://localhost:8080/",
          "height": 204
        },
        "outputId": "8cffe66f-572a-4af7-cf8e-888c48694afd"
      },
      "source": [
        "pca_df.head()"
      ],
      "execution_count": null,
      "outputs": [
        {
          "output_type": "execute_result",
          "data": {
            "text/html": [
              "<div>\n",
              "<style scoped>\n",
              "    .dataframe tbody tr th:only-of-type {\n",
              "        vertical-align: middle;\n",
              "    }\n",
              "\n",
              "    .dataframe tbody tr th {\n",
              "        vertical-align: top;\n",
              "    }\n",
              "\n",
              "    .dataframe thead th {\n",
              "        text-align: right;\n",
              "    }\n",
              "</style>\n",
              "<table border=\"1\" class=\"dataframe\">\n",
              "  <thead>\n",
              "    <tr style=\"text-align: right;\">\n",
              "      <th></th>\n",
              "      <th>PC1</th>\n",
              "      <th>PC2</th>\n",
              "      <th>PC3</th>\n",
              "      <th>PC4</th>\n",
              "      <th>PC5</th>\n",
              "      <th>PC6</th>\n",
              "      <th>PC7</th>\n",
              "      <th>PC8</th>\n",
              "      <th>PC9</th>\n",
              "      <th>PC10</th>\n",
              "      <th>Labels</th>\n",
              "    </tr>\n",
              "  </thead>\n",
              "  <tbody>\n",
              "    <tr>\n",
              "      <th>0</th>\n",
              "      <td>2.923237</td>\n",
              "      <td>3.460477</td>\n",
              "      <td>10.030179</td>\n",
              "      <td>5.247114</td>\n",
              "      <td>0.356933</td>\n",
              "      <td>8.390470</td>\n",
              "      <td>1.618644</td>\n",
              "      <td>-4.269030</td>\n",
              "      <td>-3.903040</td>\n",
              "      <td>0.225691</td>\n",
              "      <td>0</td>\n",
              "    </tr>\n",
              "    <tr>\n",
              "      <th>1</th>\n",
              "      <td>-2.316448</td>\n",
              "      <td>-1.578113</td>\n",
              "      <td>-0.725070</td>\n",
              "      <td>0.933630</td>\n",
              "      <td>-0.893606</td>\n",
              "      <td>-0.138565</td>\n",
              "      <td>0.123063</td>\n",
              "      <td>-0.668152</td>\n",
              "      <td>-0.381762</td>\n",
              "      <td>0.505863</td>\n",
              "      <td>1</td>\n",
              "    </tr>\n",
              "    <tr>\n",
              "      <th>2</th>\n",
              "      <td>3.333966</td>\n",
              "      <td>-2.297848</td>\n",
              "      <td>-0.718313</td>\n",
              "      <td>0.611513</td>\n",
              "      <td>0.148718</td>\n",
              "      <td>-0.120406</td>\n",
              "      <td>0.351427</td>\n",
              "      <td>0.311361</td>\n",
              "      <td>-0.901674</td>\n",
              "      <td>0.430569</td>\n",
              "      <td>2</td>\n",
              "    </tr>\n",
              "    <tr>\n",
              "      <th>3</th>\n",
              "      <td>-2.178586</td>\n",
              "      <td>-1.613350</td>\n",
              "      <td>-0.786901</td>\n",
              "      <td>0.983736</td>\n",
              "      <td>0.175243</td>\n",
              "      <td>-0.225297</td>\n",
              "      <td>0.635443</td>\n",
              "      <td>-0.582658</td>\n",
              "      <td>-0.476948</td>\n",
              "      <td>0.518749</td>\n",
              "      <td>1</td>\n",
              "    </tr>\n",
              "    <tr>\n",
              "      <th>4</th>\n",
              "      <td>1.805635</td>\n",
              "      <td>-3.158955</td>\n",
              "      <td>0.244003</td>\n",
              "      <td>0.339430</td>\n",
              "      <td>0.111656</td>\n",
              "      <td>-0.007660</td>\n",
              "      <td>0.166443</td>\n",
              "      <td>0.302268</td>\n",
              "      <td>-0.258150</td>\n",
              "      <td>0.248435</td>\n",
              "      <td>2</td>\n",
              "    </tr>\n",
              "  </tbody>\n",
              "</table>\n",
              "</div>"
            ],
            "text/plain": [
              "        PC1       PC2        PC3  ...       PC9      PC10  Labels\n",
              "0  2.923237  3.460477  10.030179  ... -3.903040  0.225691       0\n",
              "1 -2.316448 -1.578113  -0.725070  ... -0.381762  0.505863       1\n",
              "2  3.333966 -2.297848  -0.718313  ... -0.901674  0.430569       2\n",
              "3 -2.178586 -1.613350  -0.786901  ... -0.476948  0.518749       1\n",
              "4  1.805635 -3.158955   0.244003  ... -0.258150  0.248435       2\n",
              "\n",
              "[5 rows x 11 columns]"
            ]
          },
          "metadata": {},
          "execution_count": 245
        }
      ]
    },
    {
      "cell_type": "code",
      "metadata": {
        "id": "Yw01K7p5f2ib",
        "colab": {
          "base_uri": "https://localhost:8080/",
          "height": 365
        },
        "outputId": "b84bc847-4094-49d5-f6b7-b345f8c5df48"
      },
      "source": [
        "sns.lmplot(data=pca_df,x='PC1',y = 'PC2',hue='Labels')\n",
        "plt.show()"
      ],
      "execution_count": null,
      "outputs": [
        {
          "output_type": "display_data",
          "data": {
            "image/png": "[encoded data removed]",
            "text/plain": [
              "<Figure size 407.675x360 with 1 Axes>"
            ]
          },
          "metadata": {}
        }
      ]
    },
    {
      "cell_type": "markdown",
      "metadata": {
        "id": "jaNlY4_mU8jZ"
      },
      "source": [
        "## Finding meaning out of clusters"
      ]
    },
    {
      "cell_type": "code",
      "metadata": {
        "id": "wdQs518MVAM7",
        "colab": {
          "base_uri": "https://localhost:8080/"
        },
        "outputId": "ce5ee577-f9d0-4280-a08f-d9a3cf185d88"
      },
      "source": [
        "df1.groupby('Labels')['LodgingRevenue'].mean().sort_values(ascending=False)"
      ],
      "execution_count": null,
      "outputs": [
        {
          "output_type": "execute_result",
          "data": {
            "text/plain": [
              "Labels\n",
              "0    520.556791\n",
              "2    269.074572\n",
              "1     52.778648\n",
              "Name: LodgingRevenue, dtype: float64"
            ]
          },
          "metadata": {},
          "execution_count": 247
        }
      ]
    },
    {
      "cell_type": "code",
      "metadata": {
        "id": "B6faUtqAVADH"
      },
      "source": [
        "# From the labels We can clearly differentiate the customers based on the lodging revenue the hotel gets\n",
        "# Label 2 - High income class customer\n",
        "# Label 0 - Medium income class customer\n",
        "# Label 1 - Low income class customer"
      ],
      "execution_count": null,
      "outputs": []
    },
    {
      "cell_type": "code",
      "metadata": {
        "id": "LCKmMAuhWhZE"
      },
      "source": [
        "# As we already added the labels to the scaled variant of the above dataset we can proceed"
      ],
      "execution_count": null,
      "outputs": []
    },
    {
      "cell_type": "code",
      "metadata": {
        "id": "q_hhA---WwZC"
      },
      "source": [
        "# Now that we know the Meaning of the label we can rename the target\n",
        "df_scaled.rename({'Labels':'Customer_Type'},axis=1,inplace=True)"
      ],
      "execution_count": null,
      "outputs": []
    },
    {
      "cell_type": "markdown",
      "metadata": {
        "id": "8SOfhWr-y90P"
      },
      "source": [
        "## Making models using labels extracted from pca dataset\n"
      ]
    },
    {
      "cell_type": "code",
      "metadata": {
        "id": "GEnJgj2HqPLx"
      },
      "source": [
        "# For explainabiltiy we are going forward with df1 with labels extract from the pca dataset"
      ],
      "execution_count": null,
      "outputs": []
    },
    {
      "cell_type": "code",
      "metadata": {
        "id": "auTf8sHqKzvE"
      },
      "source": [
        "from sklearn.neighbors import KNeighborsClassifier\n",
        "from sklearn.tree import DecisionTreeClassifier\n",
        "from sklearn.ensemble import RandomForestClassifier,AdaBoostClassifier,GradientBoostingClassifier\n",
        "from xgboost import XGBClassifier\n",
        "from sklearn.ensemble import StackingClassifier,VotingClassifier\n",
        "from sklearn.inspection import plot_partial_dependence\n",
        "import sklearn.metrics as metrics\n",
        "from sklearn.model_selection import train_test_split,cross_val_score,RandomizedSearchCV,KFold"
      ],
      "execution_count": null,
      "outputs": []
    },
    {
      "cell_type": "markdown",
      "metadata": {
        "id": "K7KCe66aMMuJ"
      },
      "source": [
        "## Train test split"
      ]
    },
    {
      "cell_type": "code",
      "metadata": {
        "id": "BiCK1BiYMNSt"
      },
      "source": [
        "x = df_scaled.drop(columns=['Customer_Type'])\n",
        "y = df_scaled['Customer_Type']"
      ],
      "execution_count": null,
      "outputs": []
    },
    {
      "cell_type": "code",
      "metadata": {
        "id": "Ip-NEwAnMYof"
      },
      "source": [
        "xtrain,xtest,ytrain,ytest = train_test_split(x,y,train_size = 0.8 , random_state = 7)"
      ],
      "execution_count": null,
      "outputs": []
    },
    {
      "cell_type": "code",
      "metadata": {
        "id": "0yCVC28dMn3j"
      },
      "source": [
        ""
      ],
      "execution_count": null,
      "outputs": []
    },
    {
      "cell_type": "markdown",
      "metadata": {
        "id": "jJeupDEHLznO"
      },
      "source": [
        "## Base Model (KNN)"
      ]
    },
    {
      "cell_type": "markdown",
      "metadata": {
        "id": "GkVy1Y3YNxO6"
      },
      "source": [
        "* Fitting"
      ]
    },
    {
      "cell_type": "code",
      "metadata": {
        "id": "p2kY4_fDMK6a"
      },
      "source": [
        "knn = KNeighborsClassifier()\n",
        "model_knn = knn.fit(xtrain,ytrain)\n",
        "ypred = model_knn.predict(xtest)"
      ],
      "execution_count": null,
      "outputs": []
    },
    {
      "cell_type": "code",
      "metadata": {
        "id": "6tGHs_WTOA5c",
        "colab": {
          "base_uri": "https://localhost:8080/",
          "height": 268
        },
        "outputId": "4464ef18-dc5d-46be-ae84-6f25542b8f27"
      },
      "source": [
        "cm = metrics.confusion_matrix(ytest,ypred)\n",
        "sns.heatmap(cm,annot=True)\n",
        "plt.show()"
      ],
      "execution_count": null,
      "outputs": [
        {
          "output_type": "display_data",
          "data": {
            "image/png": "[encoded data removed]",
            "text/plain": [
              "<Figure size 432x288 with 2 Axes>"
            ]
          },
          "metadata": {}
        }
      ]
    },
    {
      "cell_type": "code",
      "metadata": {
        "id": "WkZoIrGIOcQL",
        "colab": {
          "base_uri": "https://localhost:8080/"
        },
        "outputId": "211b3ce3-f462-4dbe-be50-8a772613b2d6"
      },
      "source": [
        "print(metrics.classification_report(ytest,ypred))"
      ],
      "execution_count": null,
      "outputs": [
        {
          "output_type": "stream",
          "name": "stdout",
          "text": [
            "              precision    recall  f1-score   support\n",
            "\n",
            "           0       0.96      0.95      0.96      5148\n",
            "           1       0.98      0.98      0.98      5373\n",
            "           2       0.96      0.97      0.97      5442\n",
            "\n",
            "    accuracy                           0.97     15963\n",
            "   macro avg       0.97      0.97      0.97     15963\n",
            "weighted avg       0.97      0.97      0.97     15963\n",
            "\n"
          ]
        }
      ]
    },
    {
      "cell_type": "markdown",
      "metadata": {
        "id": "U79rNar3OqyQ"
      },
      "source": [
        "* Cross validation"
      ]
    },
    {
      "cell_type": "code",
      "metadata": {
        "id": "n5LrNMieOma-",
        "colab": {
          "base_uri": "https://localhost:8080/"
        },
        "outputId": "22ff2d69-c49f-4146-f8a4-1f241810756d"
      },
      "source": [
        "k = KFold(n_splits=5,shuffle=True,random_state=7)\n",
        "scores = cross_val_score(knn,x,y,scoring='f1_weighted',cv=k,n_jobs=-1)\n",
        "score_knn = np.mean(scores)\n",
        "bias_error_knn = 1-score_knn\n",
        "variance_error_knn = np.std(scores)/np.mean(scores)\n",
        "print('F1-weighted score = ',score_knn)\n",
        "print('Bias error = ',bias_error_knn)\n",
        "print('Variance error = ',variance_error_knn)\n"
      ],
      "execution_count": null,
      "outputs": [
        {
          "output_type": "stream",
          "name": "stdout",
          "text": [
            "F1-weighted score =  0.9700871267003283\n",
            "Bias error =  0.02991287329967174\n",
            "Variance error =  0.0018182692741957785\n"
          ]
        }
      ]
    },
    {
      "cell_type": "markdown",
      "metadata": {
        "id": "8BPbOS4nQIRK"
      },
      "source": [
        "## Model 2 : Decision Tree "
      ]
    },
    {
      "cell_type": "markdown",
      "metadata": {
        "id": "lHcybAl0Tvp7"
      },
      "source": [
        "* Fitting"
      ]
    },
    {
      "cell_type": "code",
      "metadata": {
        "id": "s4YN_QQDQy1g"
      },
      "source": [
        "dt = DecisionTreeClassifier()\n",
        "model_dt = dt.fit(xtrain,ytrain)\n",
        "ypred = model_dt.predict(xtest)"
      ],
      "execution_count": null,
      "outputs": []
    },
    {
      "cell_type": "code",
      "metadata": {
        "id": "ZLH5-_qUQzB0",
        "colab": {
          "base_uri": "https://localhost:8080/",
          "height": 268
        },
        "outputId": "84796c05-c4f2-40f2-fb06-aa4425ecbfe6"
      },
      "source": [
        "cm = metrics.confusion_matrix(ytest,ypred)\n",
        "sns.heatmap(cm,annot=True)\n",
        "plt.show()"
      ],
      "execution_count": null,
      "outputs": [
        {
          "output_type": "display_data",
          "data": {
            "image/png": "[encoded data removed]",
            "text/plain": [
              "<Figure size 432x288 with 2 Axes>"
            ]
          },
          "metadata": {}
        }
      ]
    },
    {
      "cell_type": "code",
      "metadata": {
        "id": "EMS4MJ3CQzLQ",
        "colab": {
          "base_uri": "https://localhost:8080/"
        },
        "outputId": "d9545c0e-a070-4644-e433-db60626041d3"
      },
      "source": [
        "print(metrics.classification_report(ytest,ypred))"
      ],
      "execution_count": null,
      "outputs": [
        {
          "output_type": "stream",
          "name": "stdout",
          "text": [
            "              precision    recall  f1-score   support\n",
            "\n",
            "           0       0.96      0.96      0.96      5148\n",
            "           1       0.98      0.98      0.98      5373\n",
            "           2       0.97      0.97      0.97      5442\n",
            "\n",
            "    accuracy                           0.97     15963\n",
            "   macro avg       0.97      0.97      0.97     15963\n",
            "weighted avg       0.97      0.97      0.97     15963\n",
            "\n"
          ]
        }
      ]
    },
    {
      "cell_type": "markdown",
      "metadata": {
        "id": "50f47xkWT179"
      },
      "source": [
        "* Cross validation"
      ]
    },
    {
      "cell_type": "code",
      "metadata": {
        "id": "GxVTeVCmTNRF",
        "colab": {
          "base_uri": "https://localhost:8080/"
        },
        "outputId": "a380422e-3f99-4348-db09-14d14cc5ffcd"
      },
      "source": [
        "k = KFold(n_splits=5,shuffle=True,random_state=7)\n",
        "scores = cross_val_score(dt,x,y,scoring='f1_weighted',cv=k,n_jobs=-1)\n",
        "score_dt = np.mean(scores)\n",
        "bias_error_dt = 1-score_dt\n",
        "variance_error_dt = np.std(scores)/np.mean(scores)\n",
        "print('F1-weighted score = ',score_dt)\n",
        "print('Bias error = ',bias_error_dt)\n",
        "print('Variance error = ',variance_error_dt)\n"
      ],
      "execution_count": null,
      "outputs": [
        {
          "output_type": "stream",
          "name": "stdout",
          "text": [
            "F1-weighted score =  0.9736090322020898\n",
            "Bias error =  0.02639096779791017\n",
            "Variance error =  0.0018625486649005638\n"
          ]
        }
      ]
    },
    {
      "cell_type": "markdown",
      "metadata": {
        "id": "Nws5t_SEUEKN"
      },
      "source": [
        "## Model 3 : Random forest"
      ]
    },
    {
      "cell_type": "markdown",
      "metadata": {
        "id": "lpRMlMKmUo0g"
      },
      "source": [
        "* Fitting"
      ]
    },
    {
      "cell_type": "code",
      "metadata": {
        "id": "Vgu3Mj-0TqSX"
      },
      "source": [
        "rf = RandomForestClassifier()\n",
        "model_rf = rf.fit(xtrain,ytrain)\n",
        "ypred = model_rf.predict(xtest)"
      ],
      "execution_count": null,
      "outputs": []
    },
    {
      "cell_type": "code",
      "metadata": {
        "id": "99gX8EmbTtTl",
        "colab": {
          "base_uri": "https://localhost:8080/",
          "height": 268
        },
        "outputId": "3e5f93f4-8dd1-4b6c-8ae9-b2c230a1e611"
      },
      "source": [
        "cm = metrics.confusion_matrix(ytest,ypred)\n",
        "sns.heatmap(cm,annot=True)\n",
        "plt.show()"
      ],
      "execution_count": null,
      "outputs": [
        {
          "output_type": "display_data",
          "data": {
            "image/png": "[encoded data removed]",
            "text/plain": [
              "<Figure size 432x288 with 2 Axes>"
            ]
          },
          "metadata": {}
        }
      ]
    },
    {
      "cell_type": "code",
      "metadata": {
        "id": "DJF-cVonTtQF",
        "colab": {
          "base_uri": "https://localhost:8080/"
        },
        "outputId": "c0f6330a-f1bc-4e26-f547-1d5351eec292"
      },
      "source": [
        "print(metrics.classification_report(ytest,ypred))"
      ],
      "execution_count": null,
      "outputs": [
        {
          "output_type": "stream",
          "name": "stdout",
          "text": [
            "              precision    recall  f1-score   support\n",
            "\n",
            "           0       0.98      0.98      0.98      5148\n",
            "           1       0.99      0.99      0.99      5373\n",
            "           2       0.98      0.99      0.98      5442\n",
            "\n",
            "    accuracy                           0.98     15963\n",
            "   macro avg       0.98      0.98      0.98     15963\n",
            "weighted avg       0.98      0.98      0.98     15963\n",
            "\n"
          ]
        }
      ]
    },
    {
      "cell_type": "markdown",
      "metadata": {
        "id": "4NgPkMBQTtMR"
      },
      "source": [
        "* Cross Validation"
      ]
    },
    {
      "cell_type": "code",
      "metadata": {
        "id": "CfejGMmHTtIK",
        "colab": {
          "base_uri": "https://localhost:8080/"
        },
        "outputId": "5961f9af-e1d8-4592-8132-e4a36d3761ca"
      },
      "source": [
        "k = KFold(n_splits=5,shuffle=True,random_state=7)\n",
        "scores = cross_val_score(rf,x,y,scoring='f1_weighted',cv=k,n_jobs=-1)\n",
        "score_rf = np.mean(scores)\n",
        "bias_error_rf = 1-score_rf\n",
        "variance_error_rf = np.std(scores)/np.mean(scores)\n",
        "print('F1-weighted score = ',score_rf)\n",
        "print('Bias error = ',bias_error_rf)\n",
        "print('Variance error = ',variance_error_rf)\n"
      ],
      "execution_count": null,
      "outputs": [
        {
          "output_type": "stream",
          "name": "stdout",
          "text": [
            "F1-weighted score =  0.9851321885722198\n",
            "Bias error =  0.014867811427780153\n",
            "Variance error =  0.0010950160115033004\n"
          ]
        }
      ]
    },
    {
      "cell_type": "markdown",
      "metadata": {
        "id": "SHrv9FCwTtEU"
      },
      "source": [
        "## Model 4 : Adaptive Boosting"
      ]
    },
    {
      "cell_type": "markdown",
      "metadata": {
        "id": "YcwyqOzoTsMO"
      },
      "source": [
        "* Fitting"
      ]
    },
    {
      "cell_type": "code",
      "metadata": {
        "id": "QKRPhfTNTsI1"
      },
      "source": [
        "ada = AdaBoostClassifier()\n",
        "model_ada = ada.fit(xtrain,ytrain)\n",
        "ypred = model_ada.predict(xtest)"
      ],
      "execution_count": null,
      "outputs": []
    },
    {
      "cell_type": "code",
      "metadata": {
        "id": "JBjKUgtKTsFu",
        "colab": {
          "base_uri": "https://localhost:8080/",
          "height": 268
        },
        "outputId": "180d609f-5a97-44d5-e59f-e739371d394f"
      },
      "source": [
        "cm = metrics.confusion_matrix(ytest,ypred)\n",
        "sns.heatmap(cm,annot=True)\n",
        "plt.show()"
      ],
      "execution_count": null,
      "outputs": [
        {
          "output_type": "display_data",
          "data": {
            "image/png": "[encoded data removed]",
            "text/plain": [
              "<Figure size 432x288 with 2 Axes>"
            ]
          },
          "metadata": {}
        }
      ]
    },
    {
      "cell_type": "code",
      "metadata": {
        "id": "M_jPecldTsCT",
        "colab": {
          "base_uri": "https://localhost:8080/"
        },
        "outputId": "68928b4d-f45f-4abe-acd5-0a3a6d27b3ec"
      },
      "source": [
        "print(metrics.classification_report(ytest,ypred))"
      ],
      "execution_count": null,
      "outputs": [
        {
          "output_type": "stream",
          "name": "stdout",
          "text": [
            "              precision    recall  f1-score   support\n",
            "\n",
            "           0       0.78      0.97      0.86      5148\n",
            "           1       0.99      0.96      0.97      5373\n",
            "           2       0.96      0.76      0.85      5442\n",
            "\n",
            "    accuracy                           0.89     15963\n",
            "   macro avg       0.91      0.90      0.89     15963\n",
            "weighted avg       0.91      0.89      0.89     15963\n",
            "\n"
          ]
        }
      ]
    },
    {
      "cell_type": "markdown",
      "metadata": {
        "id": "XwN2AE4_Tr_n"
      },
      "source": [
        "* Cross Validation"
      ]
    },
    {
      "cell_type": "code",
      "metadata": {
        "id": "hB3QT_zdTr8X",
        "colab": {
          "base_uri": "https://localhost:8080/"
        },
        "outputId": "1b729221-9546-4f66-8a35-4d0cf79c7cf8"
      },
      "source": [
        "k = KFold(n_splits=5,shuffle=True,random_state=7)\n",
        "scores = cross_val_score(ada,x,y,scoring='f1_weighted',cv=k,n_jobs=-1)\n",
        "score_ada = np.mean(scores)\n",
        "bias_error_ada = 1-score_ada\n",
        "variance_error_ada = np.std(scores)/np.mean(scores)\n",
        "print('F1-weighted score = ',score_ada)\n",
        "print('Bias error = ',bias_error_ada)\n",
        "print('Variance error = ',variance_error_ada)\n"
      ],
      "execution_count": null,
      "outputs": [
        {
          "output_type": "stream",
          "name": "stdout",
          "text": [
            "F1-weighted score =  0.89597338831168\n",
            "Bias error =  0.10402661168831995\n",
            "Variance error =  0.01435666341794861\n"
          ]
        }
      ]
    },
    {
      "cell_type": "markdown",
      "metadata": {
        "id": "ImkfOIDzTr5F"
      },
      "source": [
        "## Model 5 : Gradient Boosting"
      ]
    },
    {
      "cell_type": "markdown",
      "metadata": {
        "id": "HnCgaMwNZ694"
      },
      "source": [
        "* Fitting"
      ]
    },
    {
      "cell_type": "code",
      "metadata": {
        "id": "jzCreEvxTqOQ"
      },
      "source": [
        "gb = GradientBoostingClassifier()\n",
        "model_gb = gb.fit(xtrain,ytrain)\n",
        "ypred = model_gb.predict(xtest)"
      ],
      "execution_count": null,
      "outputs": []
    },
    {
      "cell_type": "code",
      "metadata": {
        "id": "n7Tr_WomTqKm",
        "colab": {
          "base_uri": "https://localhost:8080/",
          "height": 268
        },
        "outputId": "979b01c9-4e20-4b07-aa87-4a056e1092e8"
      },
      "source": [
        "cm = metrics.confusion_matrix(ytest,ypred)\n",
        "sns.heatmap(cm,annot=True)\n",
        "plt.show()"
      ],
      "execution_count": null,
      "outputs": [
        {
          "output_type": "display_data",
          "data": {
            "image/png": "[encoded data removed]",
            "text/plain": [
              "<Figure size 432x288 with 2 Axes>"
            ]
          },
          "metadata": {}
        }
      ]
    },
    {
      "cell_type": "code",
      "metadata": {
        "id": "fdDY1Tv0TqFw",
        "colab": {
          "base_uri": "https://localhost:8080/"
        },
        "outputId": "524f3818-d525-4dd6-fe9c-eaecd0536cbf"
      },
      "source": [
        "print(metrics.classification_report(ytest,ypred))"
      ],
      "execution_count": null,
      "outputs": [
        {
          "output_type": "stream",
          "name": "stdout",
          "text": [
            "              precision    recall  f1-score   support\n",
            "\n",
            "           0       0.98      0.98      0.98      5148\n",
            "           1       0.99      0.98      0.99      5373\n",
            "           2       0.98      0.99      0.99      5442\n",
            "\n",
            "    accuracy                           0.99     15963\n",
            "   macro avg       0.98      0.99      0.98     15963\n",
            "weighted avg       0.99      0.99      0.99     15963\n",
            "\n"
          ]
        }
      ]
    },
    {
      "cell_type": "markdown",
      "metadata": {
        "id": "QnG7-DAQTbzk"
      },
      "source": [
        "* Cross validation"
      ]
    },
    {
      "cell_type": "code",
      "metadata": {
        "id": "I83Uxhg1aaw_",
        "colab": {
          "base_uri": "https://localhost:8080/"
        },
        "outputId": "1526b15c-4c4b-4c52-81e3-417a7c8f7756"
      },
      "source": [
        "k = KFold(n_splits=5,shuffle=True,random_state=7)\n",
        "scores = cross_val_score(gb,x,y,scoring='f1_weighted',cv=k,n_jobs=-1)\n",
        "score_gb = np.mean(scores)\n",
        "bias_error_gb = 1-score_gb\n",
        "variance_error_gb = np.std(scores)/np.mean(scores)\n",
        "print('F1-weighted score = ',score_gb)\n",
        "print('Bias error = ',bias_error_gb)\n",
        "print('Variance error = ',variance_error_gb)\n"
      ],
      "execution_count": null,
      "outputs": [
        {
          "output_type": "stream",
          "name": "stdout",
          "text": [
            "F1-weighted score =  0.9855087131804151\n",
            "Bias error =  0.014491286819584892\n",
            "Variance error =  0.0009491225968172699\n"
          ]
        }
      ]
    },
    {
      "cell_type": "markdown",
      "metadata": {
        "id": "sLeGvjZ-aa94"
      },
      "source": [
        "## Model 6 : Xtreme Gradient Boosting"
      ]
    },
    {
      "cell_type": "markdown",
      "metadata": {
        "id": "r2cdSl-SbxY9"
      },
      "source": [
        "* Fitting"
      ]
    },
    {
      "cell_type": "code",
      "metadata": {
        "id": "-eqGep5SabDU"
      },
      "source": [
        "xgb = XGBClassifier()\n",
        "model_xgb = xgb.fit(xtrain,ytrain)\n",
        "ypred = model_xgb.predict(xtest)"
      ],
      "execution_count": null,
      "outputs": []
    },
    {
      "cell_type": "code",
      "metadata": {
        "id": "UxZ6rlb3bzwb",
        "colab": {
          "base_uri": "https://localhost:8080/",
          "height": 268
        },
        "outputId": "dbd5396a-398e-4b45-f990-369f55cc465c"
      },
      "source": [
        "cm = metrics.confusion_matrix(ytest,ypred)\n",
        "sns.heatmap(cm,annot=True)\n",
        "plt.show()"
      ],
      "execution_count": null,
      "outputs": [
        {
          "output_type": "display_data",
          "data": {
            "image/png": "[encoded data removed]",
            "text/plain": [
              "<Figure size 432x288 with 2 Axes>"
            ]
          },
          "metadata": {}
        }
      ]
    },
    {
      "cell_type": "code",
      "metadata": {
        "id": "AHpve6WPbzsr",
        "colab": {
          "base_uri": "https://localhost:8080/"
        },
        "outputId": "ba611274-0448-4650-8aac-0f559d3b1589"
      },
      "source": [
        "print(metrics.classification_report(ytest,ypred))"
      ],
      "execution_count": null,
      "outputs": [
        {
          "output_type": "stream",
          "name": "stdout",
          "text": [
            "              precision    recall  f1-score   support\n",
            "\n",
            "           0       0.98      0.98      0.98      5148\n",
            "           1       0.99      0.98      0.99      5373\n",
            "           2       0.98      0.99      0.98      5442\n",
            "\n",
            "    accuracy                           0.98     15963\n",
            "   macro avg       0.98      0.98      0.98     15963\n",
            "weighted avg       0.98      0.98      0.98     15963\n",
            "\n"
          ]
        }
      ]
    },
    {
      "cell_type": "markdown",
      "metadata": {
        "id": "2__MitLLbzoD"
      },
      "source": [
        "* Cross Validation"
      ]
    },
    {
      "cell_type": "code",
      "metadata": {
        "id": "0_4Sxbl9bzjl",
        "colab": {
          "base_uri": "https://localhost:8080/"
        },
        "outputId": "d34d4125-2f42-42ba-f496-902fc6a7b0a8"
      },
      "source": [
        "k = KFold(n_splits=5,shuffle=True,random_state=7)\n",
        "scores = cross_val_score(xgb,x,y,scoring='f1_weighted',cv=k,n_jobs=-1)\n",
        "score_xgb = np.mean(scores)\n",
        "bias_error_xgb = 1-score_xgb\n",
        "variance_error_xgb = np.std(scores)/np.mean(scores)\n",
        "print('F1-weighted score = ',score_xgb)\n",
        "print('Bias error = ',bias_error_xgb)\n",
        "print('Variance error = ',variance_error_xgb)\n"
      ],
      "execution_count": null,
      "outputs": [
        {
          "output_type": "stream",
          "name": "stdout",
          "text": [
            "F1-weighted score =  0.9827160841302366\n",
            "Bias error =  0.01728391586976341\n",
            "Variance error =  0.0009089914271038169\n"
          ]
        }
      ]
    },
    {
      "cell_type": "markdown",
      "metadata": {
        "id": "lw-apGGIdLt4"
      },
      "source": [
        "## Primary Inference"
      ]
    },
    {
      "cell_type": "code",
      "metadata": {
        "id": "wCPAzWHwdLos",
        "colab": {
          "base_uri": "https://localhost:8080/",
          "height": 235
        },
        "outputId": "b5b41cc6-a196-4a6a-e7f9-1798750c7388"
      },
      "source": [
        "results_df = pd.DataFrame({'Models':['KNN','DecisionTree','RandomForest','AdaBoosting','GradientBoosting','XGB'],\n",
        "                           'F1-Weighted':[score_knn,score_dt,score_rf,score_ada,score_gb,score_xgb],\n",
        "                           'Bias Error':[bias_error_knn,bias_error_dt,bias_error_rf,bias_error_ada,bias_error_gb,bias_error_xgb],\n",
        "                           'Variance Error':[variance_error_knn,variance_error_dt,variance_error_rf,\n",
        "                                             variance_error_ada,variance_error_gb,variance_error_xgb]})\n",
        "results_df.sort_values(by='F1-Weighted',ascending=False)"
      ],
      "execution_count": null,
      "outputs": [
        {
          "output_type": "execute_result",
          "data": {
            "text/html": [
              "<div>\n",
              "<style scoped>\n",
              "    .dataframe tbody tr th:only-of-type {\n",
              "        vertical-align: middle;\n",
              "    }\n",
              "\n",
              "    .dataframe tbody tr th {\n",
              "        vertical-align: top;\n",
              "    }\n",
              "\n",
              "    .dataframe thead th {\n",
              "        text-align: right;\n",
              "    }\n",
              "</style>\n",
              "<table border=\"1\" class=\"dataframe\">\n",
              "  <thead>\n",
              "    <tr style=\"text-align: right;\">\n",
              "      <th></th>\n",
              "      <th>Models</th>\n",
              "      <th>F1-Weighted</th>\n",
              "      <th>Bias Error</th>\n",
              "      <th>Variance Error</th>\n",
              "    </tr>\n",
              "  </thead>\n",
              "  <tbody>\n",
              "    <tr>\n",
              "      <th>4</th>\n",
              "      <td>GradientBoosting</td>\n",
              "      <td>0.985509</td>\n",
              "      <td>0.014491</td>\n",
              "      <td>0.000949</td>\n",
              "    </tr>\n",
              "    <tr>\n",
              "      <th>2</th>\n",
              "      <td>RandomForest</td>\n",
              "      <td>0.985132</td>\n",
              "      <td>0.014868</td>\n",
              "      <td>0.001095</td>\n",
              "    </tr>\n",
              "    <tr>\n",
              "      <th>5</th>\n",
              "      <td>XGB</td>\n",
              "      <td>0.982716</td>\n",
              "      <td>0.017284</td>\n",
              "      <td>0.000909</td>\n",
              "    </tr>\n",
              "    <tr>\n",
              "      <th>1</th>\n",
              "      <td>DecisionTree</td>\n",
              "      <td>0.973609</td>\n",
              "      <td>0.026391</td>\n",
              "      <td>0.001863</td>\n",
              "    </tr>\n",
              "    <tr>\n",
              "      <th>0</th>\n",
              "      <td>KNN</td>\n",
              "      <td>0.970087</td>\n",
              "      <td>0.029913</td>\n",
              "      <td>0.001818</td>\n",
              "    </tr>\n",
              "    <tr>\n",
              "      <th>3</th>\n",
              "      <td>AdaBoosting</td>\n",
              "      <td>0.895973</td>\n",
              "      <td>0.104027</td>\n",
              "      <td>0.014357</td>\n",
              "    </tr>\n",
              "  </tbody>\n",
              "</table>\n",
              "</div>"
            ],
            "text/plain": [
              "             Models  F1-Weighted  Bias Error  Variance Error\n",
              "4  GradientBoosting     0.985509    0.014491        0.000949\n",
              "2      RandomForest     0.985132    0.014868        0.001095\n",
              "5               XGB     0.982716    0.017284        0.000909\n",
              "1      DecisionTree     0.973609    0.026391        0.001863\n",
              "0               KNN     0.970087    0.029913        0.001818\n",
              "3       AdaBoosting     0.895973    0.104027        0.014357"
            ]
          },
          "metadata": {},
          "execution_count": 279
        }
      ]
    },
    {
      "cell_type": "code",
      "metadata": {
        "id": "kEVoRVqVdLit"
      },
      "source": [
        "# Considering all factors Random Forest is the best model , Hence we are taking Random Forest for improving the \n",
        "# score through hyperparameter Tuning"
      ],
      "execution_count": null,
      "outputs": []
    },
    {
      "cell_type": "markdown",
      "metadata": {
        "id": "q0f0VQI1bzfJ"
      },
      "source": [
        "# Model 7 : Random Forest with Hyper-parameter tuning (Randomized search Cv)"
      ]
    },
    {
      "cell_type": "markdown",
      "metadata": {
        "id": "fFBjzW7BhfyG"
      },
      "source": [
        "* Fitting"
      ]
    },
    {
      "cell_type": "code",
      "metadata": {
        "id": "epa0lbEQbzZX",
        "colab": {
          "base_uri": "https://localhost:8080/"
        },
        "outputId": "e46fae4e-794b-45be-a3f3-9b7e81264327"
      },
      "source": [
        "rf_tune = RandomForestClassifier()\n",
        "params = {'n_estimators':np.arange(100,250,35),\n",
        "          'criterion':['gini','entropy'],\n",
        "          'max_depth':np.arange(1,25)}\n",
        "rand = RandomizedSearchCV(estimator=rf_tune,param_distributions=params,scoring='f1_weighted',cv=k,random_state=7,n_jobs = -1)\n",
        "rand.fit(xtrain,ytrain)"
      ],
      "execution_count": null,
      "outputs": [
        {
          "output_type": "execute_result",
          "data": {
            "text/plain": [
              "RandomizedSearchCV(cv=KFold(n_splits=5, random_state=7, shuffle=True),\n",
              "                   error_score=nan,\n",
              "                   estimator=RandomForestClassifier(bootstrap=True,\n",
              "                                                    ccp_alpha=0.0,\n",
              "                                                    class_weight=None,\n",
              "                                                    criterion='gini',\n",
              "                                                    max_depth=None,\n",
              "                                                    max_features='auto',\n",
              "                                                    max_leaf_nodes=None,\n",
              "                                                    max_samples=None,\n",
              "                                                    min_impurity_decrease=0.0,\n",
              "                                                    min_impurity_split=None,\n",
              "                                                    min_samples_leaf=1,\n",
              "                                                    min_samples_split=2,\n",
              "                                                    min_weig...\n",
              "                                                    verbose=0,\n",
              "                                                    warm_start=False),\n",
              "                   iid='deprecated', n_iter=10, n_jobs=-1,\n",
              "                   param_distributions={'criterion': ['gini', 'entropy'],\n",
              "                                        'max_depth': array([ 1,  2,  3,  4,  5,  6,  7,  8,  9, 10, 11, 12, 13, 14, 15, 16, 17,\n",
              "       18, 19, 20, 21, 22, 23, 24]),\n",
              "                                        'n_estimators': array([100, 135, 170, 205, 240])},\n",
              "                   pre_dispatch='2*n_jobs', random_state=7, refit=True,\n",
              "                   return_train_score=False, scoring='f1_weighted', verbose=0)"
            ]
          },
          "metadata": {},
          "execution_count": 281
        }
      ]
    },
    {
      "cell_type": "code",
      "metadata": {
        "id": "lNjIpg8oabHQ",
        "colab": {
          "base_uri": "https://localhost:8080/"
        },
        "outputId": "87efc62d-f46e-43c1-9662-a3a09a344be6"
      },
      "source": [
        "rand.best_estimator_"
      ],
      "execution_count": null,
      "outputs": [
        {
          "output_type": "execute_result",
          "data": {
            "text/plain": [
              "RandomForestClassifier(bootstrap=True, ccp_alpha=0.0, class_weight=None,\n",
              "                       criterion='gini', max_depth=19, max_features='auto',\n",
              "                       max_leaf_nodes=None, max_samples=None,\n",
              "                       min_impurity_decrease=0.0, min_impurity_split=None,\n",
              "                       min_samples_leaf=1, min_samples_split=2,\n",
              "                       min_weight_fraction_leaf=0.0, n_estimators=240,\n",
              "                       n_jobs=None, oob_score=False, random_state=None,\n",
              "                       verbose=0, warm_start=False)"
            ]
          },
          "metadata": {},
          "execution_count": 282
        }
      ]
    },
    {
      "cell_type": "code",
      "metadata": {
        "id": "j1dZN5ZHg9nV"
      },
      "source": [
        "rf_tuned = RandomForestClassifier(bootstrap=True, ccp_alpha=0.0, class_weight=None,\n",
        "                       criterion='gini', max_depth=19, max_features='auto',\n",
        "                       max_leaf_nodes=None, max_samples=None,\n",
        "                       min_impurity_decrease=0.0, min_impurity_split=None,\n",
        "                       min_samples_leaf=1, min_samples_split=2,\n",
        "                       min_weight_fraction_leaf=0.0, n_estimators=240,\n",
        "                       n_jobs=None, oob_score=False, random_state=None,\n",
        "                       verbose=0, warm_start=False)\n",
        "model_rf_tuned = rf_tuned.fit(xtrain,ytrain)\n",
        "ypred = model_rf_tuned.predict(xtest)"
      ],
      "execution_count": null,
      "outputs": []
    },
    {
      "cell_type": "code",
      "metadata": {
        "id": "VAZUrG28hQZ2",
        "colab": {
          "base_uri": "https://localhost:8080/",
          "height": 268
        },
        "outputId": "3609c26d-0ca6-41fd-fa40-efe8a7e77e1f"
      },
      "source": [
        "cm = metrics.confusion_matrix(ytest,ypred)\n",
        "sns.heatmap(cm,annot=True)\n",
        "plt.show()"
      ],
      "execution_count": null,
      "outputs": [
        {
          "output_type": "display_data",
          "data": {
            "image/png": "[encoded data removed]",
            "text/plain": [
              "<Figure size 432x288 with 2 Axes>"
            ]
          },
          "metadata": {}
        }
      ]
    },
    {
      "cell_type": "code",
      "metadata": {
        "id": "JWQ5Uu_ZhZA_",
        "colab": {
          "base_uri": "https://localhost:8080/"
        },
        "outputId": "c33861d6-7919-4e65-9d16-e3727da0b792"
      },
      "source": [
        "print(metrics.classification_report(ytest,ypred))"
      ],
      "execution_count": null,
      "outputs": [
        {
          "output_type": "stream",
          "name": "stdout",
          "text": [
            "              precision    recall  f1-score   support\n",
            "\n",
            "           0       0.98      0.98      0.98      5148\n",
            "           1       0.99      0.99      0.99      5373\n",
            "           2       0.98      0.99      0.98      5442\n",
            "\n",
            "    accuracy                           0.98     15963\n",
            "   macro avg       0.98      0.98      0.98     15963\n",
            "weighted avg       0.98      0.98      0.98     15963\n",
            "\n"
          ]
        }
      ]
    },
    {
      "cell_type": "markdown",
      "metadata": {
        "id": "C28iNyLJhjHd"
      },
      "source": [
        "* Cross Validation"
      ]
    },
    {
      "cell_type": "code",
      "metadata": {
        "id": "o_AZraHKhdK4",
        "colab": {
          "base_uri": "https://localhost:8080/"
        },
        "outputId": "042e5c22-dda3-476a-f236-e978cd01fd38"
      },
      "source": [
        "k = KFold(n_splits=5,shuffle=True,random_state=7)\n",
        "scores = cross_val_score(rf_tuned,x,y,scoring='f1_weighted',cv=k,n_jobs=-1)\n",
        "score_rf_tuned = np.mean(scores)\n",
        "bias_error_rf_tuned = 1-score_rf_tuned\n",
        "variance_error_rf_tuned = np.std(scores)/np.mean(scores)\n",
        "print('F1-weighted score = ',score_rf_tuned)\n",
        "print('Bias error = ',bias_error_rf_tuned)\n",
        "print('Variance error = ',variance_error_rf_tuned)\n"
      ],
      "execution_count": null,
      "outputs": [
        {
          "output_type": "stream",
          "name": "stdout",
          "text": [
            "F1-weighted score =  0.985579317225671\n",
            "Bias error =  0.014420682774328952\n",
            "Variance error =  0.0009741711109512275\n"
          ]
        }
      ]
    },
    {
      "cell_type": "code",
      "metadata": {
        "id": "oT8dbCtshzPp"
      },
      "source": [
        "# We can see an improvement in all parameters (F1-weighted,Bias Error,Variance Error), \n",
        "# Hence we are considering this as the final model"
      ],
      "execution_count": null,
      "outputs": []
    },
    {
      "cell_type": "markdown",
      "metadata": {
        "id": "AWO9AnXLixSl"
      },
      "source": [
        "## Model 8 : Stacking Classifier"
      ]
    },
    {
      "cell_type": "markdown",
      "metadata": {
        "id": "X7RvtLq2pAui"
      },
      "source": [
        "* Fitting"
      ]
    },
    {
      "cell_type": "code",
      "metadata": {
        "id": "fJ9ZvEluiynE"
      },
      "source": [
        "est = [('GB',gb),('XGB',xgb),('RF',rf)]\n",
        "rf_tuned = RandomForestClassifier(bootstrap=True, ccp_alpha=0.0, class_weight=None,\n",
        "                       criterion='gini', max_depth=19, max_features='auto',\n",
        "                       max_leaf_nodes=None, max_samples=None,\n",
        "                       min_impurity_decrease=0.0, min_impurity_split=None,\n",
        "                       min_samples_leaf=1, min_samples_split=2,\n",
        "                       min_weight_fraction_leaf=0.0, n_estimators=240,\n",
        "                       n_jobs=None, oob_score=False, random_state=None,\n",
        "                       verbose=0, warm_start=False)\n",
        "stack = StackingClassifier(estimators=est,final_estimator=rf_tuned,cv=k,n_jobs=-1)\n",
        "model_stack = stack.fit(xtrain,ytrain)\n",
        "ypred = model_stack.predict(xtest)"
      ],
      "execution_count": null,
      "outputs": []
    },
    {
      "cell_type": "code",
      "metadata": {
        "id": "aEMjPQ0giysS",
        "colab": {
          "base_uri": "https://localhost:8080/",
          "height": 268
        },
        "outputId": "0ad7c8fe-c9a1-462b-d0dc-70db1591b411"
      },
      "source": [
        "cm = metrics.confusion_matrix(ytest,ypred)\n",
        "sns.heatmap(cm,annot=True)\n",
        "plt.show()"
      ],
      "execution_count": null,
      "outputs": [
        {
          "output_type": "display_data",
          "data": {
            "image/png": "[encoded data removed]",
            "text/plain": [
              "<Figure size 432x288 with 2 Axes>"
            ]
          },
          "metadata": {}
        }
      ]
    },
    {
      "cell_type": "code",
      "metadata": {
        "id": "ZqkFBO5Liyw-",
        "colab": {
          "base_uri": "https://localhost:8080/"
        },
        "outputId": "5f2a98a0-50db-436e-98dd-71011ff84296"
      },
      "source": [
        "print(metrics.classification_report(ytest,ypred))"
      ],
      "execution_count": null,
      "outputs": [
        {
          "output_type": "stream",
          "name": "stdout",
          "text": [
            "              precision    recall  f1-score   support\n",
            "\n",
            "           0       0.98      0.99      0.98      5148\n",
            "           1       0.99      0.99      0.99      5373\n",
            "           2       0.99      0.99      0.99      5442\n",
            "\n",
            "    accuracy                           0.99     15963\n",
            "   macro avg       0.99      0.99      0.99     15963\n",
            "weighted avg       0.99      0.99      0.99     15963\n",
            "\n"
          ]
        }
      ]
    },
    {
      "cell_type": "markdown",
      "metadata": {
        "id": "PQSKmXXqiyz8"
      },
      "source": [
        "* Cross Validation"
      ]
    },
    {
      "cell_type": "code",
      "metadata": {
        "id": "87t9HWHkpEk2"
      },
      "source": [
        "k = KFold(n_splits=5,shuffle=True,random_state=7)\n",
        "scores = cross_val_score(stack,x,y,scoring='f1_weighted',cv=k,n_jobs=-1)\n",
        "score_stack = np.mean(scores)\n",
        "bias_error_stack = 1-score_stack\n",
        "variance_error_stack = np.std(scores)/np.mean(scores)\n"
      ],
      "execution_count": null,
      "outputs": []
    },
    {
      "cell_type": "code",
      "metadata": {
        "id": "hMyy7VxVpEq_",
        "colab": {
          "base_uri": "https://localhost:8080/"
        },
        "outputId": "b0efd19e-bab4-48e2-d997-3e47ab08dd4e"
      },
      "source": [
        "print('F1-weighted score = ',score_stack)\n",
        "print('Bias error = ',bias_error_stack)\n",
        "print('Variance error = ',variance_error_stack)\n"
      ],
      "execution_count": null,
      "outputs": [
        {
          "output_type": "stream",
          "name": "stdout",
          "text": [
            "F1-weighted score =  0.9875837539260006\n",
            "Bias error =  0.012416246073999382\n",
            "Variance error =  0.0006449698151189819\n"
          ]
        }
      ]
    },
    {
      "cell_type": "markdown",
      "metadata": {
        "id": "5QpVJjRdxGNR"
      },
      "source": [
        "## Voting Classifier"
      ]
    },
    {
      "cell_type": "markdown",
      "metadata": {
        "id": "6z1xNUTLyGgZ"
      },
      "source": [
        "* Fitting"
      ]
    },
    {
      "cell_type": "code",
      "metadata": {
        "id": "uGp7pOTRxGIw"
      },
      "source": [
        "est = [('GB',gb),('Rf_tuned',rf_tuned),('XGB',xgb),('RF',rf)]\n",
        "vote = VotingClassifier(estimators=est)\n",
        "model_vote = vote.fit(xtrain,ytrain)\n",
        "ypred = model_vote.predict(xtest)"
      ],
      "execution_count": null,
      "outputs": []
    },
    {
      "cell_type": "code",
      "metadata": {
        "id": "kO_0Eh68xGD3",
        "colab": {
          "base_uri": "https://localhost:8080/",
          "height": 268
        },
        "outputId": "23be0415-ea38-4ea6-b751-24c32341a7f0"
      },
      "source": [
        "cm = metrics.confusion_matrix(ytest,ypred)\n",
        "sns.heatmap(cm,annot=True)\n",
        "plt.show()"
      ],
      "execution_count": null,
      "outputs": [
        {
          "output_type": "display_data",
          "data": {
            "image/png": "[encoded data removed]",
            "text/plain": [
              "<Figure size 432x288 with 2 Axes>"
            ]
          },
          "metadata": {}
        }
      ]
    },
    {
      "cell_type": "code",
      "metadata": {
        "id": "3jKxVlFdxF9J",
        "colab": {
          "base_uri": "https://localhost:8080/"
        },
        "outputId": "40c8930a-d4c9-40e4-f796-eb74792e5abc"
      },
      "source": [
        "print(metrics.classification_report(ytest,ypred))"
      ],
      "execution_count": null,
      "outputs": [
        {
          "output_type": "stream",
          "name": "stdout",
          "text": [
            "              precision    recall  f1-score   support\n",
            "\n",
            "           0       0.97      0.99      0.98      5148\n",
            "           1       0.99      0.99      0.99      5373\n",
            "           2       0.99      0.98      0.99      5442\n",
            "\n",
            "    accuracy                           0.99     15963\n",
            "   macro avg       0.99      0.99      0.99     15963\n",
            "weighted avg       0.99      0.99      0.99     15963\n",
            "\n"
          ]
        }
      ]
    },
    {
      "cell_type": "markdown",
      "metadata": {
        "id": "rs6iIqZtxFz0"
      },
      "source": [
        "* Cross Validation"
      ]
    },
    {
      "cell_type": "code",
      "metadata": {
        "id": "YjzAkz0Dw8pE",
        "colab": {
          "base_uri": "https://localhost:8080/"
        },
        "outputId": "5fb4a7d8-1c35-4891-a34d-ab88c8864097"
      },
      "source": [
        "k = KFold(n_splits=5,shuffle=True,random_state=7)\n",
        "scores = cross_val_score(rf_tuned,x,y,scoring='f1_weighted',cv=k,n_jobs=-1)\n",
        "score_vote = np.mean(scores)\n",
        "bias_error_vote = 1-score_vote\n",
        "variance_error_vote = np.std(scores)/np.mean(scores)\n",
        "print('F1-weighted score = ',score_vote)\n",
        "print('Bias error = ',bias_error_vote)\n",
        "print('Variance error = ',variance_error_vote)\n"
      ],
      "execution_count": null,
      "outputs": [
        {
          "output_type": "stream",
          "name": "stdout",
          "text": [
            "F1-weighted score =  0.9854673059624263\n",
            "Bias error =  0.014532694037573735\n",
            "Variance error =  0.000789946226785832\n"
          ]
        }
      ]
    },
    {
      "cell_type": "markdown",
      "metadata": {
        "id": "P32VTIRQyfDE"
      },
      "source": [
        "## Final Result"
      ]
    },
    {
      "cell_type": "code",
      "metadata": {
        "id": "twLkIihBy3hP",
        "colab": {
          "base_uri": "https://localhost:8080/",
          "height": 328
        },
        "outputId": "9ccdda8d-b5a9-44b0-8e63-afbe614c555f"
      },
      "source": [
        "results_df = pd.DataFrame({'Models':['KNN','DecisionTree','RandomForest','AdaBoosting','GradientBoosting','XGB',\n",
        "                                     'Tuned_RF','Stacking Classifier','Voting Classifier'],\n",
        "                           'F1-Weighted':[score_knn,score_dt,score_rf,score_ada,score_gb,score_xgb,score_rf_tuned,\n",
        "                                          score_stack,score_vote],\n",
        "                           'Bias Error':[bias_error_knn,bias_error_dt,bias_error_rf,bias_error_ada,bias_error_gb,\n",
        "                                         bias_error_xgb,bias_error_rf_tuned,bias_error_stack,bias_error_vote],\n",
        "                           'Variance Error':[variance_error_knn,variance_error_dt,variance_error_rf,\n",
        "                                             variance_error_ada,variance_error_gb,variance_error_xgb,\n",
        "                                             variance_error_rf_tuned,variance_error_stack,variance_error_vote]})\n",
        "results_df.sort_values(by='F1-Weighted',ascending=False)"
      ],
      "execution_count": null,
      "outputs": [
        {
          "output_type": "execute_result",
          "data": {
            "text/html": [
              "<div>\n",
              "<style scoped>\n",
              "    .dataframe tbody tr th:only-of-type {\n",
              "        vertical-align: middle;\n",
              "    }\n",
              "\n",
              "    .dataframe tbody tr th {\n",
              "        vertical-align: top;\n",
              "    }\n",
              "\n",
              "    .dataframe thead th {\n",
              "        text-align: right;\n",
              "    }\n",
              "</style>\n",
              "<table border=\"1\" class=\"dataframe\">\n",
              "  <thead>\n",
              "    <tr style=\"text-align: right;\">\n",
              "      <th></th>\n",
              "      <th>Models</th>\n",
              "      <th>F1-Weighted</th>\n",
              "      <th>Bias Error</th>\n",
              "      <th>Variance Error</th>\n",
              "    </tr>\n",
              "  </thead>\n",
              "  <tbody>\n",
              "    <tr>\n",
              "      <th>7</th>\n",
              "      <td>Stacking Classifier</td>\n",
              "      <td>0.987584</td>\n",
              "      <td>0.012416</td>\n",
              "      <td>0.000645</td>\n",
              "    </tr>\n",
              "    <tr>\n",
              "      <th>6</th>\n",
              "      <td>Tuned_RF</td>\n",
              "      <td>0.985579</td>\n",
              "      <td>0.014421</td>\n",
              "      <td>0.000974</td>\n",
              "    </tr>\n",
              "    <tr>\n",
              "      <th>4</th>\n",
              "      <td>GradientBoosting</td>\n",
              "      <td>0.985509</td>\n",
              "      <td>0.014491</td>\n",
              "      <td>0.000949</td>\n",
              "    </tr>\n",
              "    <tr>\n",
              "      <th>8</th>\n",
              "      <td>Voting Classifier</td>\n",
              "      <td>0.985467</td>\n",
              "      <td>0.014533</td>\n",
              "      <td>0.000790</td>\n",
              "    </tr>\n",
              "    <tr>\n",
              "      <th>2</th>\n",
              "      <td>RandomForest</td>\n",
              "      <td>0.985132</td>\n",
              "      <td>0.014868</td>\n",
              "      <td>0.001095</td>\n",
              "    </tr>\n",
              "    <tr>\n",
              "      <th>5</th>\n",
              "      <td>XGB</td>\n",
              "      <td>0.982716</td>\n",
              "      <td>0.017284</td>\n",
              "      <td>0.000909</td>\n",
              "    </tr>\n",
              "    <tr>\n",
              "      <th>1</th>\n",
              "      <td>DecisionTree</td>\n",
              "      <td>0.973609</td>\n",
              "      <td>0.026391</td>\n",
              "      <td>0.001863</td>\n",
              "    </tr>\n",
              "    <tr>\n",
              "      <th>0</th>\n",
              "      <td>KNN</td>\n",
              "      <td>0.970087</td>\n",
              "      <td>0.029913</td>\n",
              "      <td>0.001818</td>\n",
              "    </tr>\n",
              "    <tr>\n",
              "      <th>3</th>\n",
              "      <td>AdaBoosting</td>\n",
              "      <td>0.895973</td>\n",
              "      <td>0.104027</td>\n",
              "      <td>0.014357</td>\n",
              "    </tr>\n",
              "  </tbody>\n",
              "</table>\n",
              "</div>"
            ],
            "text/plain": [
              "                Models  F1-Weighted  Bias Error  Variance Error\n",
              "7  Stacking Classifier     0.987584    0.012416        0.000645\n",
              "6             Tuned_RF     0.985579    0.014421        0.000974\n",
              "4     GradientBoosting     0.985509    0.014491        0.000949\n",
              "8    Voting Classifier     0.985467    0.014533        0.000790\n",
              "2         RandomForest     0.985132    0.014868        0.001095\n",
              "5                  XGB     0.982716    0.017284        0.000909\n",
              "1         DecisionTree     0.973609    0.026391        0.001863\n",
              "0                  KNN     0.970087    0.029913        0.001818\n",
              "3          AdaBoosting     0.895973    0.104027        0.014357"
            ]
          },
          "metadata": {},
          "execution_count": 297
        }
      ]
    },
    {
      "cell_type": "code",
      "metadata": {
        "id": "wAkwQOX4zejK"
      },
      "source": [
        "# Stacking model is the best in all fronts , \n",
        "# hence we are considering stacking model as the final model for futher interpretation"
      ],
      "execution_count": null,
      "outputs": []
    },
    {
      "cell_type": "markdown",
      "metadata": {
        "id": "GDF61dK6CT5z"
      },
      "source": [
        "## Business Interpretation"
      ]
    },
    {
      "cell_type": "markdown",
      "metadata": {
        "id": "P2xvSBkVQgtG"
      },
      "source": [
        "* The final model we considered which is stacking model is stable and highly accurate in terms of prediction \n",
        "* Hence the client can use this model for future use and plan strategies according to that"
      ]
    },
    {
      "cell_type": "markdown",
      "metadata": {
        "id": "YuTcpCSnCTxk"
      },
      "source": [
        "## Limitations"
      ]
    },
    {
      "cell_type": "markdown",
      "metadata": {
        "id": "zX9qhZQIF3wp"
      },
      "source": [
        "* We chose lodging revenue for the uderstandability of the target.Eventhough this feature contributes most towards the customer type , \n",
        "it isn't necessary that it is the only feature which can be used for this purpose. So, we can say that the full meaning of the target variable is still unknown"
      ]
    },
    {
      "cell_type": "markdown",
      "metadata": {
        "id": "45ujtazmF3s0"
      },
      "source": [
        "* Eventhough, the bias and variance error is low, it is still present. So, the model is still not a perfectly accurate one"
      ]
    },
    {
      "cell_type": "markdown",
      "metadata": {
        "id": "UfNNSeItCTsM"
      },
      "source": [
        "## Conclusion"
      ]
    },
    {
      "cell_type": "markdown",
      "metadata": {
        "id": "SRfK518lz_77"
      },
      "source": [
        "* We can say we successfully completed the problem with very few limitations and we were able to predict with high precision and recall based on the labels we created based on the clustering "
      ]
    },
    {
      "cell_type": "code",
      "metadata": {
        "id": "4dt2a1WPOvQW"
      },
      "source": [
        ""
      ],
      "execution_count": null,
      "outputs": []
    }
  ]
}